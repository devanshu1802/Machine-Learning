{
 "cells": [
  {
   "cell_type": "code",
   "execution_count": 137,
   "metadata": {},
   "outputs": [
    {
     "name": "stdout",
     "output_type": "stream",
     "text": [
      "[2, 4, 6, 8, 10, 12, 14, 16, 18, 20, 22, 24, 26, 28, 30, 32, 34, 36, 38, 40, 42, 44, 46, 48]\n",
      "['mohit', 'anshu', 'ravi', 'him']\n"
     ]
    },
    {
     "data": {
      "text/plain": [
       "[1, 4, 9, 16, 25, 36, 49, 64, 81, 100]"
      ]
     },
     "execution_count": 137,
     "metadata": {},
     "output_type": "execute_result"
    }
   ],
   "source": [
    "# List Comprehension\n",
    "a=[i for i in range(1,50)if i%2==0 ]\n",
    "print(a)\n",
    "\n",
    "dev = [\"devanshu\", \"mohit\", \"anshu\", \"ravi\", \"him\"]\n",
    "b = [i for i in (dev)if len(i) <= 5]\n",
    "print(b)\n",
    "\n",
    "l =[i*i for i in range(1,11)]\n",
    "l"
   ]
  },
  {
   "cell_type": "code",
   "execution_count": 138,
   "metadata": {},
   "outputs": [
    {
     "data": {
      "text/plain": [
       "{1: 1, 2: 4, 3: 9, 4: 16, 5: 25}"
      ]
     },
     "execution_count": 138,
     "metadata": {},
     "output_type": "execute_result"
    }
   ],
   "source": [
    "#Dictionary comprehension\n",
    "d={i:i**2 for i in range(1,6)}\n",
    "d"
   ]
  },
  {
   "cell_type": "code",
   "execution_count": 139,
   "metadata": {},
   "outputs": [
    {
     "data": {
      "text/plain": [
       "{1: [1, 1], 2: [4, 8], 3: [9, 27], 4: [16, 64], 5: [25, 125]}"
      ]
     },
     "execution_count": 139,
     "metadata": {},
     "output_type": "execute_result"
    }
   ],
   "source": [
    "d={i:[i**2 ,i**3] for i in range(1,6)}\n",
    "d"
   ]
  },
  {
   "cell_type": "code",
   "execution_count": 140,
   "metadata": {},
   "outputs": [
    {
     "data": {
      "text/plain": [
       "{2: 2, 4: 4, 6: 6, 8: 8, 10: 10, 12: 12, 14: 14, 16: 16, 18: 18, 20: 20}"
      ]
     },
     "execution_count": 140,
     "metadata": {},
     "output_type": "execute_result"
    }
   ],
   "source": [
    "d={i: i for i in range (1,21)if(i%2==0)}\n",
    "d"
   ]
  },
  {
   "cell_type": "code",
   "execution_count": 141,
   "metadata": {},
   "outputs": [
    {
     "name": "stdout",
     "output_type": "stream",
     "text": [
      "a 5\n",
      "b 7\n"
     ]
    },
    {
     "data": {
      "text/plain": [
       "{5: 'a', 7: 'b'}"
      ]
     },
     "execution_count": 141,
     "metadata": {},
     "output_type": "execute_result"
    }
   ],
   "source": [
    "d={\"a\":5,\"b\":7}\n",
    "for  a,b in d.items():\n",
    "  print(a,b)\n",
    "\n",
    "# To change and swap the values and keys \n",
    "d2={i:j for j,i in d.items()}\n",
    "d2"
   ]
  },
  {
   "cell_type": "code",
   "execution_count": 142,
   "metadata": {},
   "outputs": [
    {
     "data": {
      "text/plain": [
       "{'e': 1,\n",
       " '!': 1,\n",
       " 'r': 1,\n",
       " ' ': 2,\n",
       " 'i': 1,\n",
       " 'y': 1,\n",
       " 'W': 1,\n",
       " 's': 3,\n",
       " 'h': 1,\n",
       " 'o': 2,\n",
       " 'u': 1}"
      ]
     },
     "execution_count": 142,
     "metadata": {},
     "output_type": "execute_result"
    }
   ],
   "source": [
    "# Create a dictionary counting character frequencies\n",
    "s=\"Why so serious!\"\n",
    "d={c:s.count(c) for c in set(s)}\n",
    "d"
   ]
  },
  {
   "cell_type": "code",
   "execution_count": 143,
   "metadata": {},
   "outputs": [
    {
     "data": {
      "text/plain": [
       "{(1, 1): 2,\n",
       " (1, 3): 4,\n",
       " (2, 2): 4,\n",
       " (2, 4): 6,\n",
       " (3, 1): 4,\n",
       " (3, 3): 6,\n",
       " (4, 2): 6,\n",
       " (4, 4): 8}"
      ]
     },
     "execution_count": 143,
     "metadata": {},
     "output_type": "execute_result"
    }
   ],
   "source": [
    "# Create a dictionary of tuple keys with their sum as values, for even sums\n",
    "\n",
    "d={(i,j):i+j for i in range (1,5) for j in range (1,5) if (i+j)%2 == 0}\n",
    "d\n"
   ]
  },
  {
   "cell_type": "code",
   "execution_count": 144,
   "metadata": {},
   "outputs": [
    {
     "data": {
      "text/plain": [
       "{1: 'Odd',\n",
       " 2: 'Even',\n",
       " 3: 'Odd',\n",
       " 4: 'Even',\n",
       " 5: 'Odd',\n",
       " 6: 'Even',\n",
       " 7: 'Odd',\n",
       " 8: 'Even',\n",
       " 9: 'Odd',\n",
       " 10: 'Even'}"
      ]
     },
     "execution_count": 144,
     "metadata": {},
     "output_type": "execute_result"
    }
   ],
   "source": [
    "# Create a dictionary from 1-10 and mention even and odd as their values\n",
    "d={i:(\"Even\") if (i%2==0) else (\"Odd\") for i in range(1,11)  }\n",
    "d"
   ]
  },
  {
   "cell_type": "code",
   "execution_count": null,
   "metadata": {},
   "outputs": [],
   "source": [
    "grades = {'Alice': 'A', 'Bob': 'B', 'Charlie': 'A', 'David': 'C', 'Eve': 'B'}\n",
    "d1 = {grade: [name for name in grades if grades[name] == grade] for grade in set(grades.values())}\n",
    "print(d1)\n"
   ]
  }
 ],
 "metadata": {
  "kernelspec": {
   "display_name": "env",
   "language": "python",
   "name": "python3"
  },
  "language_info": {
   "codemirror_mode": {
    "name": "ipython",
    "version": 3
   },
   "file_extension": ".py",
   "mimetype": "text/x-python",
   "name": "python",
   "nbconvert_exporter": "python",
   "pygments_lexer": "ipython3",
   "version": "3.13.0"
  }
 },
 "nbformat": 4,
 "nbformat_minor": 2
}
