{
 "cells": [
  {
   "cell_type": "markdown",
   "id": "a1d2b85c",
   "metadata": {},
   "source": [
    "# Price_in_lakhs is target variable "
   ]
  },
  {
   "cell_type": "code",
   "execution_count": 94,
   "id": "fce861de",
   "metadata": {},
   "outputs": [],
   "source": [
    "import pandas as pd\n",
    "import scipy.stats as stats\n",
    "import numpy as np\n",
    "import seaborn as sns\n",
    "pd.set_option(\"display.max_columns\",None)\n",
    "import matplotlib.pyplot as plt \n",
    "from sklearn.model_selection import train_test_split\n",
    "import statsmodels.api as sm\n",
    "import statsmodels.stats.api as sms\n",
    "from statsmodels.stats.outliers_influence import variance_inflation_factor as vif\n",
    "from sklearn.preprocessing import PolynomialFeatures,StandardScaler\n",
    "\n",
    "import warnings\n",
    "warnings.filterwarnings(\"ignore\")\n"
   ]
  },
  {
   "cell_type": "code",
   "execution_count": 95,
   "id": "d803c4a4",
   "metadata": {
    "scrolled": true
   },
   "outputs": [
    {
     "data": {
      "text/html": [
       "<div>\n",
       "<style scoped>\n",
       "    .dataframe tbody tr th:only-of-type {\n",
       "        vertical-align: middle;\n",
       "    }\n",
       "\n",
       "    .dataframe tbody tr th {\n",
       "        vertical-align: top;\n",
       "    }\n",
       "\n",
       "    .dataframe thead th {\n",
       "        text-align: right;\n",
       "    }\n",
       "</style>\n",
       "<table border=\"1\" class=\"dataframe\">\n",
       "  <thead>\n",
       "    <tr style=\"text-align: right;\">\n",
       "      <th></th>\n",
       "      <th>ID</th>\n",
       "      <th>State</th>\n",
       "      <th>City</th>\n",
       "      <th>Locality</th>\n",
       "      <th>Property_Type</th>\n",
       "      <th>BHK</th>\n",
       "      <th>Size_in_SqFt</th>\n",
       "      <th>Price_in_Lakhs</th>\n",
       "      <th>Price_per_SqFt</th>\n",
       "      <th>Year_Built</th>\n",
       "      <th>Furnished_Status</th>\n",
       "      <th>Floor_No</th>\n",
       "      <th>Total_Floors</th>\n",
       "      <th>Age_of_Property</th>\n",
       "      <th>Nearby_Schools</th>\n",
       "      <th>Nearby_Hospitals</th>\n",
       "      <th>Public_Transport_Accessibility</th>\n",
       "      <th>Parking_Space</th>\n",
       "      <th>Security</th>\n",
       "      <th>Amenities</th>\n",
       "      <th>Facing</th>\n",
       "      <th>Owner_Type</th>\n",
       "      <th>Availability_Status</th>\n",
       "    </tr>\n",
       "  </thead>\n",
       "  <tbody>\n",
       "    <tr>\n",
       "      <th>0</th>\n",
       "      <td>1</td>\n",
       "      <td>Tamil Nadu</td>\n",
       "      <td>Chennai</td>\n",
       "      <td>Locality_84</td>\n",
       "      <td>Apartment</td>\n",
       "      <td>1</td>\n",
       "      <td>4740.0</td>\n",
       "      <td>489.76</td>\n",
       "      <td>0.10</td>\n",
       "      <td>1990</td>\n",
       "      <td>Furnished</td>\n",
       "      <td>22.0</td>\n",
       "      <td>1</td>\n",
       "      <td>35.0</td>\n",
       "      <td>10</td>\n",
       "      <td>3</td>\n",
       "      <td>High</td>\n",
       "      <td>No</td>\n",
       "      <td>No</td>\n",
       "      <td>Playground, Gym, Garden, Pool, Clubhouse</td>\n",
       "      <td>West</td>\n",
       "      <td>Owner</td>\n",
       "      <td>Ready_to_Move</td>\n",
       "    </tr>\n",
       "    <tr>\n",
       "      <th>1</th>\n",
       "      <td>2</td>\n",
       "      <td>Maharashtra</td>\n",
       "      <td>Pune</td>\n",
       "      <td>Locality_490</td>\n",
       "      <td>Independent House</td>\n",
       "      <td>3</td>\n",
       "      <td>2364.0</td>\n",
       "      <td>195.52</td>\n",
       "      <td>0.08</td>\n",
       "      <td>2008</td>\n",
       "      <td>Unfurnished</td>\n",
       "      <td>21.0</td>\n",
       "      <td>20</td>\n",
       "      <td>17.0</td>\n",
       "      <td>8</td>\n",
       "      <td>1</td>\n",
       "      <td>Low</td>\n",
       "      <td>No</td>\n",
       "      <td>Yes</td>\n",
       "      <td>Playground, Clubhouse, Pool, Gym, Garden</td>\n",
       "      <td>North</td>\n",
       "      <td>Builder</td>\n",
       "      <td>Under_Construction</td>\n",
       "    </tr>\n",
       "  </tbody>\n",
       "</table>\n",
       "</div>"
      ],
      "text/plain": [
       "   ID        State     City      Locality      Property_Type  BHK  \\\n",
       "0   1   Tamil Nadu  Chennai   Locality_84          Apartment    1   \n",
       "1   2  Maharashtra     Pune  Locality_490  Independent House    3   \n",
       "\n",
       "   Size_in_SqFt  Price_in_Lakhs  Price_per_SqFt  Year_Built Furnished_Status  \\\n",
       "0        4740.0          489.76            0.10        1990        Furnished   \n",
       "1        2364.0          195.52            0.08        2008      Unfurnished   \n",
       "\n",
       "   Floor_No  Total_Floors  Age_of_Property  Nearby_Schools  Nearby_Hospitals  \\\n",
       "0      22.0             1             35.0              10                 3   \n",
       "1      21.0            20             17.0               8                 1   \n",
       "\n",
       "  Public_Transport_Accessibility Parking_Space Security  \\\n",
       "0                           High            No       No   \n",
       "1                            Low            No      Yes   \n",
       "\n",
       "                                  Amenities Facing Owner_Type  \\\n",
       "0  Playground, Gym, Garden, Pool, Clubhouse   West      Owner   \n",
       "1  Playground, Clubhouse, Pool, Gym, Garden  North    Builder   \n",
       "\n",
       "  Availability_Status  \n",
       "0       Ready_to_Move  \n",
       "1  Under_Construction  "
      ]
     },
     "execution_count": 95,
     "metadata": {},
     "output_type": "execute_result"
    }
   ],
   "source": [
    "ihp = pd.read_csv(\"india_housing_prices.csv\")\n",
    "ihp.head(2)"
   ]
  },
  {
   "cell_type": "code",
   "execution_count": 96,
   "id": "fbb17367",
   "metadata": {},
   "outputs": [
    {
     "data": {
      "text/html": [
       "<div>\n",
       "<style scoped>\n",
       "    .dataframe tbody tr th:only-of-type {\n",
       "        vertical-align: middle;\n",
       "    }\n",
       "\n",
       "    .dataframe tbody tr th {\n",
       "        vertical-align: top;\n",
       "    }\n",
       "\n",
       "    .dataframe thead th {\n",
       "        text-align: right;\n",
       "    }\n",
       "</style>\n",
       "<table border=\"1\" class=\"dataframe\">\n",
       "  <thead>\n",
       "    <tr style=\"text-align: right;\">\n",
       "      <th></th>\n",
       "      <th>ID</th>\n",
       "      <th>State</th>\n",
       "      <th>City</th>\n",
       "      <th>Locality</th>\n",
       "      <th>Property_Type</th>\n",
       "      <th>BHK</th>\n",
       "      <th>Size_in_SqFt</th>\n",
       "      <th>Price_in_Lakhs</th>\n",
       "      <th>Price_per_SqFt</th>\n",
       "      <th>Year_Built</th>\n",
       "      <th>Furnished_Status</th>\n",
       "      <th>Floor_No</th>\n",
       "      <th>Total_Floors</th>\n",
       "      <th>Age_of_Property</th>\n",
       "      <th>Nearby_Schools</th>\n",
       "      <th>Nearby_Hospitals</th>\n",
       "      <th>Public_Transport_Accessibility</th>\n",
       "      <th>Parking_Space</th>\n",
       "      <th>Security</th>\n",
       "      <th>Amenities</th>\n",
       "      <th>Facing</th>\n",
       "      <th>Owner_Type</th>\n",
       "      <th>Availability_Status</th>\n",
       "    </tr>\n",
       "  </thead>\n",
       "  <tbody>\n",
       "    <tr>\n",
       "      <th>0</th>\n",
       "      <td>1</td>\n",
       "      <td>Tamil Nadu</td>\n",
       "      <td>Chennai</td>\n",
       "      <td>Locality_84</td>\n",
       "      <td>Apartment</td>\n",
       "      <td>1</td>\n",
       "      <td>4740.0</td>\n",
       "      <td>489.76</td>\n",
       "      <td>0.1</td>\n",
       "      <td>1990</td>\n",
       "      <td>Furnished</td>\n",
       "      <td>22.0</td>\n",
       "      <td>1</td>\n",
       "      <td>35.0</td>\n",
       "      <td>10</td>\n",
       "      <td>3</td>\n",
       "      <td>High</td>\n",
       "      <td>No</td>\n",
       "      <td>No</td>\n",
       "      <td>Playground, Gym, Garden, Pool, Clubhouse</td>\n",
       "      <td>West</td>\n",
       "      <td>Owner</td>\n",
       "      <td>Ready_to_Move</td>\n",
       "    </tr>\n",
       "  </tbody>\n",
       "</table>\n",
       "</div>"
      ],
      "text/plain": [
       "   ID       State     City     Locality Property_Type  BHK  Size_in_SqFt  \\\n",
       "0   1  Tamil Nadu  Chennai  Locality_84     Apartment    1        4740.0   \n",
       "\n",
       "   Price_in_Lakhs  Price_per_SqFt  Year_Built Furnished_Status  Floor_No  \\\n",
       "0          489.76             0.1        1990        Furnished      22.0   \n",
       "\n",
       "   Total_Floors  Age_of_Property  Nearby_Schools  Nearby_Hospitals  \\\n",
       "0             1             35.0              10                 3   \n",
       "\n",
       "  Public_Transport_Accessibility Parking_Space Security  \\\n",
       "0                           High            No       No   \n",
       "\n",
       "                                  Amenities Facing Owner_Type  \\\n",
       "0  Playground, Gym, Garden, Pool, Clubhouse   West      Owner   \n",
       "\n",
       "  Availability_Status  \n",
       "0       Ready_to_Move  "
      ]
     },
     "execution_count": 96,
     "metadata": {},
     "output_type": "execute_result"
    }
   ],
   "source": [
    "ihp[ihp.Property_Type==\"Apartment\"].head(1)"
   ]
  },
  {
   "cell_type": "code",
   "execution_count": 97,
   "id": "9d0fb825",
   "metadata": {},
   "outputs": [
    {
     "data": {
      "text/html": [
       "<div>\n",
       "<style scoped>\n",
       "    .dataframe tbody tr th:only-of-type {\n",
       "        vertical-align: middle;\n",
       "    }\n",
       "\n",
       "    .dataframe tbody tr th {\n",
       "        vertical-align: top;\n",
       "    }\n",
       "\n",
       "    .dataframe thead th {\n",
       "        text-align: right;\n",
       "    }\n",
       "</style>\n",
       "<table border=\"1\" class=\"dataframe\">\n",
       "  <thead>\n",
       "    <tr style=\"text-align: right;\">\n",
       "      <th></th>\n",
       "      <th>ID</th>\n",
       "      <th>State</th>\n",
       "      <th>City</th>\n",
       "      <th>Locality</th>\n",
       "      <th>Property_Type</th>\n",
       "      <th>BHK</th>\n",
       "      <th>Size_in_SqFt</th>\n",
       "      <th>Price_in_Lakhs</th>\n",
       "      <th>Price_per_SqFt</th>\n",
       "      <th>Year_Built</th>\n",
       "      <th>Furnished_Status</th>\n",
       "      <th>Floor_No</th>\n",
       "      <th>Total_Floors</th>\n",
       "      <th>Age_of_Property</th>\n",
       "      <th>Nearby_Schools</th>\n",
       "      <th>Nearby_Hospitals</th>\n",
       "      <th>Public_Transport_Accessibility</th>\n",
       "      <th>Parking_Space</th>\n",
       "      <th>Security</th>\n",
       "      <th>Amenities</th>\n",
       "      <th>Facing</th>\n",
       "      <th>Owner_Type</th>\n",
       "      <th>Availability_Status</th>\n",
       "    </tr>\n",
       "  </thead>\n",
       "  <tbody>\n",
       "  </tbody>\n",
       "</table>\n",
       "</div>"
      ],
      "text/plain": [
       "Empty DataFrame\n",
       "Columns: [ID, State, City, Locality, Property_Type, BHK, Size_in_SqFt, Price_in_Lakhs, Price_per_SqFt, Year_Built, Furnished_Status, Floor_No, Total_Floors, Age_of_Property, Nearby_Schools, Nearby_Hospitals, Public_Transport_Accessibility, Parking_Space, Security, Amenities, Facing, Owner_Type, Availability_Status]\n",
       "Index: []"
      ]
     },
     "execution_count": 97,
     "metadata": {},
     "output_type": "execute_result"
    }
   ],
   "source": [
    "ihp[ihp.duplicated()] #Duplicates"
   ]
  },
  {
   "cell_type": "code",
   "execution_count": 98,
   "id": "ab25dd51",
   "metadata": {},
   "outputs": [
    {
     "data": {
      "text/plain": [
       "(250000, 23)"
      ]
     },
     "execution_count": 98,
     "metadata": {},
     "output_type": "execute_result"
    }
   ],
   "source": [
    "ihp.shape"
   ]
  },
  {
   "cell_type": "code",
   "execution_count": 99,
   "id": "2f8a46af",
   "metadata": {},
   "outputs": [],
   "source": [
    "ihp.Price_in_Lakhs.dropna(inplace=True)"
   ]
  },
  {
   "cell_type": "code",
   "execution_count": 100,
   "id": "1dfed5b0",
   "metadata": {},
   "outputs": [
    {
     "data": {
      "text/plain": [
       "np.int64(343)"
      ]
     },
     "execution_count": 100,
     "metadata": {},
     "output_type": "execute_result"
    }
   ],
   "source": [
    "ihp.Price_in_Lakhs.isnull().sum()"
   ]
  },
  {
   "cell_type": "code",
   "execution_count": 101,
   "id": "45c5b86d",
   "metadata": {},
   "outputs": [
    {
     "name": "stdout",
     "output_type": "stream",
     "text": [
      "<class 'pandas.core.frame.DataFrame'>\n",
      "RangeIndex: 250000 entries, 0 to 249999\n",
      "Data columns (total 23 columns):\n",
      " #   Column                          Non-Null Count   Dtype  \n",
      "---  ------                          --------------   -----  \n",
      " 0   ID                              250000 non-null  int64  \n",
      " 1   State                           249956 non-null  object \n",
      " 2   City                            249971 non-null  object \n",
      " 3   Locality                        249809 non-null  object \n",
      " 4   Property_Type                   249837 non-null  object \n",
      " 5   BHK                             250000 non-null  int64  \n",
      " 6   Size_in_SqFt                    249462 non-null  float64\n",
      " 7   Price_in_Lakhs                  249657 non-null  float64\n",
      " 8   Price_per_SqFt                  250000 non-null  float64\n",
      " 9   Year_Built                      250000 non-null  int64  \n",
      " 10  Furnished_Status                249357 non-null  object \n",
      " 11  Floor_No                        249988 non-null  float64\n",
      " 12  Total_Floors                    250000 non-null  int64  \n",
      " 13  Age_of_Property                 249902 non-null  float64\n",
      " 14  Nearby_Schools                  250000 non-null  int64  \n",
      " 15  Nearby_Hospitals                250000 non-null  int64  \n",
      " 16  Public_Transport_Accessibility  250000 non-null  object \n",
      " 17  Parking_Space                   250000 non-null  object \n",
      " 18  Security                        250000 non-null  object \n",
      " 19  Amenities                       250000 non-null  object \n",
      " 20  Facing                          250000 non-null  object \n",
      " 21  Owner_Type                      249936 non-null  object \n",
      " 22  Availability_Status             249956 non-null  object \n",
      "dtypes: float64(5), int64(6), object(12)\n",
      "memory usage: 43.9+ MB\n"
     ]
    }
   ],
   "source": [
    "ihp.info()"
   ]
  },
  {
   "cell_type": "code",
   "execution_count": 102,
   "id": "be0261aa",
   "metadata": {},
   "outputs": [
    {
     "data": {
      "text/plain": [
       "250000"
      ]
     },
     "execution_count": 102,
     "metadata": {},
     "output_type": "execute_result"
    }
   ],
   "source": [
    "ihp.shape[0]"
   ]
  },
  {
   "cell_type": "markdown",
   "id": "7df435aa",
   "metadata": {},
   "source": [
    "# Null values "
   ]
  },
  {
   "cell_type": "code",
   "execution_count": 103,
   "id": "f05c0480",
   "metadata": {},
   "outputs": [
    {
     "data": {
      "text/plain": [
       "ID                                0.0000\n",
       "State                             0.0176\n",
       "City                              0.0116\n",
       "Locality                          0.0764\n",
       "Property_Type                     0.0652\n",
       "BHK                               0.0000\n",
       "Size_in_SqFt                      0.2152\n",
       "Price_in_Lakhs                    0.1372\n",
       "Price_per_SqFt                    0.0000\n",
       "Year_Built                        0.0000\n",
       "Furnished_Status                  0.2572\n",
       "Floor_No                          0.0048\n",
       "Total_Floors                      0.0000\n",
       "Age_of_Property                   0.0392\n",
       "Nearby_Schools                    0.0000\n",
       "Nearby_Hospitals                  0.0000\n",
       "Public_Transport_Accessibility    0.0000\n",
       "Parking_Space                     0.0000\n",
       "Security                          0.0000\n",
       "Amenities                         0.0000\n",
       "Facing                            0.0000\n",
       "Owner_Type                        0.0256\n",
       "Availability_Status               0.0176\n",
       "dtype: float64"
      ]
     },
     "execution_count": 103,
     "metadata": {},
     "output_type": "execute_result"
    }
   ],
   "source": [
    "ihp.isnull().sum()/ihp.shape[0]*100"
   ]
  },
  {
   "cell_type": "markdown",
   "id": "8b73dcb0",
   "metadata": {},
   "source": [
    "# Dropping ID"
   ]
  },
  {
   "cell_type": "code",
   "execution_count": 104,
   "id": "87802754",
   "metadata": {},
   "outputs": [],
   "source": [
    "ihp.drop(\"ID\",axis=1,inplace=True)"
   ]
  },
  {
   "cell_type": "code",
   "execution_count": 105,
   "id": "7ca933c5",
   "metadata": {},
   "outputs": [
    {
     "data": {
      "text/html": [
       "<div>\n",
       "<style scoped>\n",
       "    .dataframe tbody tr th:only-of-type {\n",
       "        vertical-align: middle;\n",
       "    }\n",
       "\n",
       "    .dataframe tbody tr th {\n",
       "        vertical-align: top;\n",
       "    }\n",
       "\n",
       "    .dataframe thead th {\n",
       "        text-align: right;\n",
       "    }\n",
       "</style>\n",
       "<table border=\"1\" class=\"dataframe\">\n",
       "  <thead>\n",
       "    <tr style=\"text-align: right;\">\n",
       "      <th></th>\n",
       "      <th>State</th>\n",
       "      <th>City</th>\n",
       "      <th>Locality</th>\n",
       "      <th>Property_Type</th>\n",
       "      <th>BHK</th>\n",
       "      <th>Size_in_SqFt</th>\n",
       "      <th>Price_in_Lakhs</th>\n",
       "      <th>Price_per_SqFt</th>\n",
       "      <th>Year_Built</th>\n",
       "      <th>Furnished_Status</th>\n",
       "      <th>Floor_No</th>\n",
       "      <th>Total_Floors</th>\n",
       "      <th>Age_of_Property</th>\n",
       "      <th>Nearby_Schools</th>\n",
       "      <th>Nearby_Hospitals</th>\n",
       "      <th>Public_Transport_Accessibility</th>\n",
       "      <th>Parking_Space</th>\n",
       "      <th>Security</th>\n",
       "      <th>Amenities</th>\n",
       "      <th>Facing</th>\n",
       "      <th>Owner_Type</th>\n",
       "      <th>Availability_Status</th>\n",
       "    </tr>\n",
       "  </thead>\n",
       "  <tbody>\n",
       "    <tr>\n",
       "      <th>0</th>\n",
       "      <td>Tamil Nadu</td>\n",
       "      <td>Chennai</td>\n",
       "      <td>Locality_84</td>\n",
       "      <td>Apartment</td>\n",
       "      <td>1</td>\n",
       "      <td>4740.0</td>\n",
       "      <td>489.76</td>\n",
       "      <td>0.1</td>\n",
       "      <td>1990</td>\n",
       "      <td>Furnished</td>\n",
       "      <td>22.0</td>\n",
       "      <td>1</td>\n",
       "      <td>35.0</td>\n",
       "      <td>10</td>\n",
       "      <td>3</td>\n",
       "      <td>High</td>\n",
       "      <td>No</td>\n",
       "      <td>No</td>\n",
       "      <td>Playground, Gym, Garden, Pool, Clubhouse</td>\n",
       "      <td>West</td>\n",
       "      <td>Owner</td>\n",
       "      <td>Ready_to_Move</td>\n",
       "    </tr>\n",
       "  </tbody>\n",
       "</table>\n",
       "</div>"
      ],
      "text/plain": [
       "        State     City     Locality Property_Type  BHK  Size_in_SqFt  \\\n",
       "0  Tamil Nadu  Chennai  Locality_84     Apartment    1        4740.0   \n",
       "\n",
       "   Price_in_Lakhs  Price_per_SqFt  Year_Built Furnished_Status  Floor_No  \\\n",
       "0          489.76             0.1        1990        Furnished      22.0   \n",
       "\n",
       "   Total_Floors  Age_of_Property  Nearby_Schools  Nearby_Hospitals  \\\n",
       "0             1             35.0              10                 3   \n",
       "\n",
       "  Public_Transport_Accessibility Parking_Space Security  \\\n",
       "0                           High            No       No   \n",
       "\n",
       "                                  Amenities Facing Owner_Type  \\\n",
       "0  Playground, Gym, Garden, Pool, Clubhouse   West      Owner   \n",
       "\n",
       "  Availability_Status  \n",
       "0       Ready_to_Move  "
      ]
     },
     "execution_count": 105,
     "metadata": {},
     "output_type": "execute_result"
    }
   ],
   "source": [
    "ihp.head(1)"
   ]
  },
  {
   "cell_type": "code",
   "execution_count": 106,
   "id": "11c43632",
   "metadata": {},
   "outputs": [
    {
     "data": {
      "text/html": [
       "<div>\n",
       "<style scoped>\n",
       "    .dataframe tbody tr th:only-of-type {\n",
       "        vertical-align: middle;\n",
       "    }\n",
       "\n",
       "    .dataframe tbody tr th {\n",
       "        vertical-align: top;\n",
       "    }\n",
       "\n",
       "    .dataframe thead th {\n",
       "        text-align: right;\n",
       "    }\n",
       "</style>\n",
       "<table border=\"1\" class=\"dataframe\">\n",
       "  <thead>\n",
       "    <tr style=\"text-align: right;\">\n",
       "      <th></th>\n",
       "      <th>BHK</th>\n",
       "      <th>Size_in_SqFt</th>\n",
       "      <th>Price_in_Lakhs</th>\n",
       "      <th>Price_per_SqFt</th>\n",
       "      <th>Year_Built</th>\n",
       "      <th>Floor_No</th>\n",
       "      <th>Total_Floors</th>\n",
       "      <th>Age_of_Property</th>\n",
       "      <th>Nearby_Schools</th>\n",
       "      <th>Nearby_Hospitals</th>\n",
       "    </tr>\n",
       "  </thead>\n",
       "  <tbody>\n",
       "    <tr>\n",
       "      <th>count</th>\n",
       "      <td>250000.000000</td>\n",
       "      <td>249462.000000</td>\n",
       "      <td>249657.000000</td>\n",
       "      <td>250000.000000</td>\n",
       "      <td>250000.000000</td>\n",
       "      <td>249988.000000</td>\n",
       "      <td>250000.000000</td>\n",
       "      <td>249902.000000</td>\n",
       "      <td>250000.000000</td>\n",
       "      <td>250000.000000</td>\n",
       "    </tr>\n",
       "    <tr>\n",
       "      <th>mean</th>\n",
       "      <td>2.999396</td>\n",
       "      <td>2749.816681</td>\n",
       "      <td>254.585476</td>\n",
       "      <td>0.130597</td>\n",
       "      <td>2006.520012</td>\n",
       "      <td>14.966878</td>\n",
       "      <td>15.503004</td>\n",
       "      <td>18.479976</td>\n",
       "      <td>5.499860</td>\n",
       "      <td>5.498016</td>\n",
       "    </tr>\n",
       "    <tr>\n",
       "      <th>std</th>\n",
       "      <td>1.415521</td>\n",
       "      <td>1300.599961</td>\n",
       "      <td>141.348869</td>\n",
       "      <td>0.130747</td>\n",
       "      <td>9.808575</td>\n",
       "      <td>8.948089</td>\n",
       "      <td>8.671618</td>\n",
       "      <td>9.808393</td>\n",
       "      <td>2.878639</td>\n",
       "      <td>2.871860</td>\n",
       "    </tr>\n",
       "    <tr>\n",
       "      <th>min</th>\n",
       "      <td>1.000000</td>\n",
       "      <td>500.000000</td>\n",
       "      <td>10.000000</td>\n",
       "      <td>0.000000</td>\n",
       "      <td>1990.000000</td>\n",
       "      <td>0.000000</td>\n",
       "      <td>1.000000</td>\n",
       "      <td>2.000000</td>\n",
       "      <td>1.000000</td>\n",
       "      <td>1.000000</td>\n",
       "    </tr>\n",
       "    <tr>\n",
       "      <th>25%</th>\n",
       "      <td>2.000000</td>\n",
       "      <td>1623.000000</td>\n",
       "      <td>132.540000</td>\n",
       "      <td>0.050000</td>\n",
       "      <td>1998.000000</td>\n",
       "      <td>7.000000</td>\n",
       "      <td>8.000000</td>\n",
       "      <td>10.000000</td>\n",
       "      <td>3.000000</td>\n",
       "      <td>3.000000</td>\n",
       "    </tr>\n",
       "    <tr>\n",
       "      <th>50%</th>\n",
       "      <td>3.000000</td>\n",
       "      <td>2747.000000</td>\n",
       "      <td>253.860000</td>\n",
       "      <td>0.090000</td>\n",
       "      <td>2007.000000</td>\n",
       "      <td>15.000000</td>\n",
       "      <td>15.000000</td>\n",
       "      <td>18.000000</td>\n",
       "      <td>5.000000</td>\n",
       "      <td>5.000000</td>\n",
       "    </tr>\n",
       "    <tr>\n",
       "      <th>75%</th>\n",
       "      <td>4.000000</td>\n",
       "      <td>3874.000000</td>\n",
       "      <td>376.880000</td>\n",
       "      <td>0.160000</td>\n",
       "      <td>2015.000000</td>\n",
       "      <td>23.000000</td>\n",
       "      <td>23.000000</td>\n",
       "      <td>27.000000</td>\n",
       "      <td>8.000000</td>\n",
       "      <td>8.000000</td>\n",
       "    </tr>\n",
       "    <tr>\n",
       "      <th>max</th>\n",
       "      <td>5.000000</td>\n",
       "      <td>5000.000000</td>\n",
       "      <td>500.000000</td>\n",
       "      <td>0.990000</td>\n",
       "      <td>2023.000000</td>\n",
       "      <td>30.000000</td>\n",
       "      <td>30.000000</td>\n",
       "      <td>35.000000</td>\n",
       "      <td>10.000000</td>\n",
       "      <td>10.000000</td>\n",
       "    </tr>\n",
       "  </tbody>\n",
       "</table>\n",
       "</div>"
      ],
      "text/plain": [
       "                 BHK   Size_in_SqFt  Price_in_Lakhs  Price_per_SqFt  \\\n",
       "count  250000.000000  249462.000000   249657.000000   250000.000000   \n",
       "mean        2.999396    2749.816681      254.585476        0.130597   \n",
       "std         1.415521    1300.599961      141.348869        0.130747   \n",
       "min         1.000000     500.000000       10.000000        0.000000   \n",
       "25%         2.000000    1623.000000      132.540000        0.050000   \n",
       "50%         3.000000    2747.000000      253.860000        0.090000   \n",
       "75%         4.000000    3874.000000      376.880000        0.160000   \n",
       "max         5.000000    5000.000000      500.000000        0.990000   \n",
       "\n",
       "          Year_Built       Floor_No   Total_Floors  Age_of_Property  \\\n",
       "count  250000.000000  249988.000000  250000.000000    249902.000000   \n",
       "mean     2006.520012      14.966878      15.503004        18.479976   \n",
       "std         9.808575       8.948089       8.671618         9.808393   \n",
       "min      1990.000000       0.000000       1.000000         2.000000   \n",
       "25%      1998.000000       7.000000       8.000000        10.000000   \n",
       "50%      2007.000000      15.000000      15.000000        18.000000   \n",
       "75%      2015.000000      23.000000      23.000000        27.000000   \n",
       "max      2023.000000      30.000000      30.000000        35.000000   \n",
       "\n",
       "       Nearby_Schools  Nearby_Hospitals  \n",
       "count   250000.000000     250000.000000  \n",
       "mean         5.499860          5.498016  \n",
       "std          2.878639          2.871860  \n",
       "min          1.000000          1.000000  \n",
       "25%          3.000000          3.000000  \n",
       "50%          5.000000          5.000000  \n",
       "75%          8.000000          8.000000  \n",
       "max         10.000000         10.000000  "
      ]
     },
     "execution_count": 106,
     "metadata": {},
     "output_type": "execute_result"
    }
   ],
   "source": [
    "ihp.describe()"
   ]
  },
  {
   "cell_type": "markdown",
   "id": "7fde5028",
   "metadata": {},
   "source": [
    "# Dropping rows with null value of target varibales "
   ]
  },
  {
   "cell_type": "code",
   "execution_count": 107,
   "id": "4b1fc313",
   "metadata": {},
   "outputs": [],
   "source": [
    "drop=ihp[ihp.Price_in_Lakhs.isnull()==True].index"
   ]
  },
  {
   "cell_type": "code",
   "execution_count": 108,
   "id": "83aca65a",
   "metadata": {},
   "outputs": [
    {
     "data": {
      "text/plain": [
       "Index([126, 127, 128, 129, 130, 131, 132, 133, 134, 135,\n",
       "       ...\n",
       "       880, 881, 882, 883, 884, 885, 886, 887, 888, 889],\n",
       "      dtype='int64', length=343)"
      ]
     },
     "execution_count": 108,
     "metadata": {},
     "output_type": "execute_result"
    }
   ],
   "source": [
    "drop"
   ]
  },
  {
   "cell_type": "code",
   "execution_count": 109,
   "id": "c9e68a3b",
   "metadata": {},
   "outputs": [],
   "source": [
    "ihp.drop(drop,inplace=True)"
   ]
  },
  {
   "cell_type": "code",
   "execution_count": 110,
   "id": "b84a107a",
   "metadata": {},
   "outputs": [
    {
     "data": {
      "text/plain": [
       "(249657, 22)"
      ]
     },
     "execution_count": 110,
     "metadata": {},
     "output_type": "execute_result"
    }
   ],
   "source": [
    "ihp.shape"
   ]
  },
  {
   "cell_type": "code",
   "execution_count": 111,
   "id": "5cf0bb6e",
   "metadata": {},
   "outputs": [],
   "source": [
    "ihp.reset_index(inplace=True)"
   ]
  },
  {
   "cell_type": "markdown",
   "id": "87d0efbe",
   "metadata": {},
   "source": [
    "# boxplot and distribution"
   ]
  },
  {
   "cell_type": "code",
   "execution_count": 112,
   "id": "a1b13b2d",
   "metadata": {},
   "outputs": [],
   "source": [
    "ihp.drop(\"index\",axis=1,inplace=True)"
   ]
  },
  {
   "cell_type": "code",
   "execution_count": 113,
   "id": "88e33602",
   "metadata": {},
   "outputs": [
    {
     "name": "stdout",
     "output_type": "stream",
     "text": [
      "BHK\n"
     ]
    },
    {
     "data": {
      "image/png": "[encoded data removed]",
      "text/plain": [
       "<Figure size 640x480 with 1 Axes>"
      ]
     },
     "metadata": {},
     "output_type": "display_data"
    },
    {
     "name": "stdout",
     "output_type": "stream",
     "text": [
      "Size_in_SqFt\n"
     ]
    },
    {
     "data": {
      "image/png": "[encoded data removed]",
      "text/plain": [
       "<Figure size 640x480 with 1 Axes>"
      ]
     },
     "metadata": {},
     "output_type": "display_data"
    },
    {
     "name": "stdout",
     "output_type": "stream",
     "text": [
      "Price_in_Lakhs\n"
     ]
    },
    {
     "data": {
      "image/png": "[encoded data removed]",
      "text/plain": [
       "<Figure size 640x480 with 1 Axes>"
      ]
     },
     "metadata": {},
     "output_type": "display_data"
    },
    {
     "name": "stdout",
     "output_type": "stream",
     "text": [
      "Price_per_SqFt\n"
     ]
    },
    {
     "data": {
      "image/png": "[encoded data removed]",
      "text/plain": [
       "<Figure size 640x480 with 1 Axes>"
      ]
     },
     "metadata": {},
     "output_type": "display_data"
    },
    {
     "name": "stdout",
     "output_type": "stream",
     "text": [
      "Year_Built\n"
     ]
    },
    {
     "data": {
      "image/png": "[encoded data removed]",
      "text/plain": [
       "<Figure size 640x480 with 1 Axes>"
      ]
     },
     "metadata": {},
     "output_type": "display_data"
    },
    {
     "name": "stdout",
     "output_type": "stream",
     "text": [
      "Floor_No\n"
     ]
    },
    {
     "data": {
      "image/png": "[encoded data removed]",
      "text/plain": [
       "<Figure size 640x480 with 1 Axes>"
      ]
     },
     "metadata": {},
     "output_type": "display_data"
    },
    {
     "name": "stdout",
     "output_type": "stream",
     "text": [
      "Total_Floors\n"
     ]
    },
    {
     "data": {
      "image/png": "[encoded data removed]",
      "text/plain": [
       "<Figure size 640x480 with 1 Axes>"
      ]
     },
     "metadata": {},
     "output_type": "display_data"
    },
    {
     "name": "stdout",
     "output_type": "stream",
     "text": [
      "Age_of_Property\n"
     ]
    },
    {
     "data": {
      "image/png": "[encoded data removed]",
      "text/plain": [
       "<Figure size 640x480 with 1 Axes>"
      ]
     },
     "metadata": {},
     "output_type": "display_data"
    },
    {
     "name": "stdout",
     "output_type": "stream",
     "text": [
      "Nearby_Schools\n"
     ]
    },
    {
     "data": {
      "image/png": "[encoded data removed]",
      "text/plain": [
       "<Figure size 640x480 with 1 Axes>"
      ]
     },
     "metadata": {},
     "output_type": "display_data"
    },
    {
     "name": "stdout",
     "output_type": "stream",
     "text": [
      "Nearby_Hospitals\n"
     ]
    },
    {
     "data": {
      "image/png": "[encoded data removed]",
      "text/plain": [
       "<Figure size 640x480 with 1 Axes>"
      ]
     },
     "metadata": {},
     "output_type": "display_data"
    },
    {
     "name": "stdout",
     "output_type": "stream",
     "text": [
      "CPU times: user 2.48 s, sys: 185 ms, total: 2.66 s\n",
      "Wall time: 2.83 s\n"
     ]
    }
   ],
   "source": [
    "%%time\n",
    "for i in ihp.select_dtypes(exclude=\"object\"):\n",
    "    print(i)\n",
    "    sns.boxplot(ihp[i])\n",
    "    plt.show()"
   ]
  },
  {
   "cell_type": "markdown",
   "id": "95c1910b",
   "metadata": {},
   "source": []
  },
  {
   "cell_type": "markdown",
   "id": "c7756aa0",
   "metadata": {},
   "source": [
    "# Checking Duplicates "
   ]
  },
  {
   "cell_type": "code",
   "execution_count": 114,
   "id": "2aabdc95",
   "metadata": {},
   "outputs": [
    {
     "data": {
      "text/html": [
       "<div>\n",
       "<style scoped>\n",
       "    .dataframe tbody tr th:only-of-type {\n",
       "        vertical-align: middle;\n",
       "    }\n",
       "\n",
       "    .dataframe tbody tr th {\n",
       "        vertical-align: top;\n",
       "    }\n",
       "\n",
       "    .dataframe thead th {\n",
       "        text-align: right;\n",
       "    }\n",
       "</style>\n",
       "<table border=\"1\" class=\"dataframe\">\n",
       "  <thead>\n",
       "    <tr style=\"text-align: right;\">\n",
       "      <th></th>\n",
       "      <th>State</th>\n",
       "      <th>City</th>\n",
       "      <th>Locality</th>\n",
       "      <th>Property_Type</th>\n",
       "      <th>BHK</th>\n",
       "      <th>Size_in_SqFt</th>\n",
       "      <th>Price_in_Lakhs</th>\n",
       "      <th>Price_per_SqFt</th>\n",
       "      <th>Year_Built</th>\n",
       "      <th>Furnished_Status</th>\n",
       "      <th>Floor_No</th>\n",
       "      <th>Total_Floors</th>\n",
       "      <th>Age_of_Property</th>\n",
       "      <th>Nearby_Schools</th>\n",
       "      <th>Nearby_Hospitals</th>\n",
       "      <th>Public_Transport_Accessibility</th>\n",
       "      <th>Parking_Space</th>\n",
       "      <th>Security</th>\n",
       "      <th>Amenities</th>\n",
       "      <th>Facing</th>\n",
       "      <th>Owner_Type</th>\n",
       "      <th>Availability_Status</th>\n",
       "    </tr>\n",
       "  </thead>\n",
       "  <tbody>\n",
       "  </tbody>\n",
       "</table>\n",
       "</div>"
      ],
      "text/plain": [
       "Empty DataFrame\n",
       "Columns: [State, City, Locality, Property_Type, BHK, Size_in_SqFt, Price_in_Lakhs, Price_per_SqFt, Year_Built, Furnished_Status, Floor_No, Total_Floors, Age_of_Property, Nearby_Schools, Nearby_Hospitals, Public_Transport_Accessibility, Parking_Space, Security, Amenities, Facing, Owner_Type, Availability_Status]\n",
       "Index: []"
      ]
     },
     "execution_count": 114,
     "metadata": {},
     "output_type": "execute_result"
    }
   ],
   "source": [
    "ihp[ihp.duplicated()]"
   ]
  },
  {
   "cell_type": "markdown",
   "id": "3220b573",
   "metadata": {},
   "source": [
    "# Distribution of categorical data "
   ]
  },
  {
   "cell_type": "code",
   "execution_count": 115,
   "id": "1e6eaa88",
   "metadata": {},
   "outputs": [
    {
     "data": {
      "text/plain": [
       "Owner_Type\n",
       "Broker     33.387956\n",
       "Builder    33.307424\n",
       "Owner      33.304620\n",
       "Name: proportion, dtype: float64"
      ]
     },
     "execution_count": 115,
     "metadata": {},
     "output_type": "execute_result"
    }
   ],
   "source": [
    "ihp.Owner_Type.value_counts(normalize=True)*100"
   ]
  },
  {
   "cell_type": "code",
   "execution_count": 116,
   "id": "92063b1c",
   "metadata": {},
   "outputs": [
    {
     "data": {
      "text/plain": [
       "<Axes: xlabel='count', ylabel='State'>"
      ]
     },
     "execution_count": 116,
     "metadata": {},
     "output_type": "execute_result"
    },
    {
     "data": {
      "image/png": "[encoded data removed]",
      "text/plain": [
       "<Figure size 640x480 with 1 Axes>"
      ]
     },
     "metadata": {},
     "output_type": "display_data"
    }
   ],
   "source": [
    "sns.countplot(y=ihp.State)"
   ]
  },
  {
   "cell_type": "code",
   "execution_count": 117,
   "id": "3a7bb095",
   "metadata": {},
   "outputs": [
    {
     "data": {
      "text/plain": [
       "<Axes: xlabel='Floor_No', ylabel='Age_of_Property'>"
      ]
     },
     "execution_count": 117,
     "metadata": {},
     "output_type": "execute_result"
    },
    {
     "data": {
      "image/png": "[encoded data removed]",
      "text/plain": [
       "<Figure size 640x480 with 1 Axes>"
      ]
     },
     "metadata": {},
     "output_type": "display_data"
    }
   ],
   "source": [
    "sns.scatterplot(x=ihp.Floor_No,y=ihp.Age_of_Property)"
   ]
  },
  {
   "cell_type": "code",
   "execution_count": 118,
   "id": "b0700997",
   "metadata": {},
   "outputs": [
    {
     "data": {
      "text/plain": [
       "<Axes: >"
      ]
     },
     "execution_count": 118,
     "metadata": {},
     "output_type": "execute_result"
    },
    {
     "data": {
      "image/png": "[encoded data removed]",
      "text/plain": [
       "<Figure size 1000x800 with 2 Axes>"
      ]
     },
     "metadata": {},
     "output_type": "display_data"
    }
   ],
   "source": [
    "plt.figure(figsize=[10,8])\n",
    "sns.heatmap(ihp.select_dtypes(exclude=\"object\").corr(),annot=True)"
   ]
  },
  {
   "cell_type": "code",
   "execution_count": 119,
   "id": "6843e84b",
   "metadata": {},
   "outputs": [
    {
     "data": {
      "text/plain": [
       "<Axes: xlabel='Floor_No', ylabel='Price_in_Lakhs'>"
      ]
     },
     "execution_count": 119,
     "metadata": {},
     "output_type": "execute_result"
    },
    {
     "data": {
      "image/png": "[encoded data removed]",
      "text/plain": [
       "<Figure size 640x480 with 1 Axes>"
      ]
     },
     "metadata": {},
     "output_type": "display_data"
    }
   ],
   "source": [
    "sns.scatterplot(y=ihp.Price_in_Lakhs,x = ihp.Floor_No)"
   ]
  },
  {
   "cell_type": "markdown",
   "id": "5b83720a",
   "metadata": {},
   "source": [
    "# Data cleaning "
   ]
  },
  {
   "cell_type": "code",
   "execution_count": 120,
   "id": "bd8012e1",
   "metadata": {},
   "outputs": [
    {
     "data": {
      "text/html": [
       "<div>\n",
       "<style scoped>\n",
       "    .dataframe tbody tr th:only-of-type {\n",
       "        vertical-align: middle;\n",
       "    }\n",
       "\n",
       "    .dataframe tbody tr th {\n",
       "        vertical-align: top;\n",
       "    }\n",
       "\n",
       "    .dataframe thead th {\n",
       "        text-align: right;\n",
       "    }\n",
       "</style>\n",
       "<table border=\"1\" class=\"dataframe\">\n",
       "  <thead>\n",
       "    <tr style=\"text-align: right;\">\n",
       "      <th></th>\n",
       "      <th>State</th>\n",
       "      <th>City</th>\n",
       "      <th>Locality</th>\n",
       "      <th>Property_Type</th>\n",
       "      <th>BHK</th>\n",
       "      <th>Size_in_SqFt</th>\n",
       "      <th>Price_in_Lakhs</th>\n",
       "      <th>Price_per_SqFt</th>\n",
       "      <th>Year_Built</th>\n",
       "      <th>Furnished_Status</th>\n",
       "      <th>Floor_No</th>\n",
       "      <th>Total_Floors</th>\n",
       "      <th>Age_of_Property</th>\n",
       "      <th>Nearby_Schools</th>\n",
       "      <th>Nearby_Hospitals</th>\n",
       "      <th>Public_Transport_Accessibility</th>\n",
       "      <th>Parking_Space</th>\n",
       "      <th>Security</th>\n",
       "      <th>Amenities</th>\n",
       "      <th>Facing</th>\n",
       "      <th>Owner_Type</th>\n",
       "      <th>Availability_Status</th>\n",
       "    </tr>\n",
       "  </thead>\n",
       "  <tbody>\n",
       "    <tr>\n",
       "      <th>0</th>\n",
       "      <td>Tamil Nadu</td>\n",
       "      <td>Chennai</td>\n",
       "      <td>Locality_84</td>\n",
       "      <td>Apartment</td>\n",
       "      <td>1</td>\n",
       "      <td>4740.0</td>\n",
       "      <td>489.76</td>\n",
       "      <td>0.1</td>\n",
       "      <td>1990</td>\n",
       "      <td>Furnished</td>\n",
       "      <td>22.0</td>\n",
       "      <td>1</td>\n",
       "      <td>35.0</td>\n",
       "      <td>10</td>\n",
       "      <td>3</td>\n",
       "      <td>High</td>\n",
       "      <td>No</td>\n",
       "      <td>No</td>\n",
       "      <td>Playground, Gym, Garden, Pool, Clubhouse</td>\n",
       "      <td>West</td>\n",
       "      <td>Owner</td>\n",
       "      <td>Ready_to_Move</td>\n",
       "    </tr>\n",
       "  </tbody>\n",
       "</table>\n",
       "</div>"
      ],
      "text/plain": [
       "        State     City     Locality Property_Type  BHK  Size_in_SqFt  \\\n",
       "0  Tamil Nadu  Chennai  Locality_84     Apartment    1        4740.0   \n",
       "\n",
       "   Price_in_Lakhs  Price_per_SqFt  Year_Built Furnished_Status  Floor_No  \\\n",
       "0          489.76             0.1        1990        Furnished      22.0   \n",
       "\n",
       "   Total_Floors  Age_of_Property  Nearby_Schools  Nearby_Hospitals  \\\n",
       "0             1             35.0              10                 3   \n",
       "\n",
       "  Public_Transport_Accessibility Parking_Space Security  \\\n",
       "0                           High            No       No   \n",
       "\n",
       "                                  Amenities Facing Owner_Type  \\\n",
       "0  Playground, Gym, Garden, Pool, Clubhouse   West      Owner   \n",
       "\n",
       "  Availability_Status  \n",
       "0       Ready_to_Move  "
      ]
     },
     "execution_count": 120,
     "metadata": {},
     "output_type": "execute_result"
    }
   ],
   "source": [
    "ihp.head(1)"
   ]
  },
  {
   "cell_type": "code",
   "execution_count": 121,
   "id": "82218692",
   "metadata": {},
   "outputs": [
    {
     "data": {
      "text/plain": [
       "State                              44\n",
       "City                               29\n",
       "Locality                            0\n",
       "Property_Type                       0\n",
       "BHK                                 0\n",
       "Size_in_SqFt                      350\n",
       "Price_in_Lakhs                      0\n",
       "Price_per_SqFt                      0\n",
       "Year_Built                          0\n",
       "Furnished_Status                  302\n",
       "Floor_No                           12\n",
       "Total_Floors                        0\n",
       "Age_of_Property                    98\n",
       "Nearby_Schools                      0\n",
       "Nearby_Hospitals                    0\n",
       "Public_Transport_Accessibility      0\n",
       "Parking_Space                       0\n",
       "Security                            0\n",
       "Amenities                           0\n",
       "Facing                              0\n",
       "Owner_Type                         64\n",
       "Availability_Status                44\n",
       "dtype: int64"
      ]
     },
     "execution_count": 121,
     "metadata": {},
     "output_type": "execute_result"
    }
   ],
   "source": [
    "ihp.isnull().sum()\n"
   ]
  },
  {
   "cell_type": "markdown",
   "id": "4985634f",
   "metadata": {},
   "source": [
    "# Fill null values in State "
   ]
  },
  {
   "cell_type": "code",
   "execution_count": 122,
   "id": "af5c6aa9",
   "metadata": {},
   "outputs": [],
   "source": [
    "ihp.State.fillna(ihp.State.mode()[0],inplace=True)"
   ]
  },
  {
   "cell_type": "markdown",
   "id": "9782ce54",
   "metadata": {},
   "source": [
    "# filling null values "
   ]
  },
  {
   "cell_type": "code",
   "execution_count": 123,
   "id": "c74c6d22",
   "metadata": {},
   "outputs": [],
   "source": [
    "ihp.City.fillna(ihp.City.mode()[0],inplace=True)"
   ]
  },
  {
   "cell_type": "code",
   "execution_count": 124,
   "id": "9d954911",
   "metadata": {},
   "outputs": [],
   "source": [
    "ihp[\"Size_in_SqFt\"].fillna(ihp[\"Size_in_SqFt\"].mean(),inplace=True)"
   ]
  },
  {
   "cell_type": "code",
   "execution_count": 125,
   "id": "5246ac60",
   "metadata": {},
   "outputs": [],
   "source": [
    "ihp[\"Age_of_Property\"].fillna(ihp[\"Age_of_Property\"].mean(),inplace=True)"
   ]
  },
  {
   "cell_type": "code",
   "execution_count": 126,
   "id": "fc3c0648",
   "metadata": {},
   "outputs": [
    {
     "data": {
      "text/plain": [
       "State                               0\n",
       "City                                0\n",
       "Locality                            0\n",
       "Property_Type                       0\n",
       "BHK                                 0\n",
       "Size_in_SqFt                        0\n",
       "Price_in_Lakhs                      0\n",
       "Price_per_SqFt                      0\n",
       "Year_Built                          0\n",
       "Furnished_Status                  302\n",
       "Floor_No                           12\n",
       "Total_Floors                        0\n",
       "Age_of_Property                     0\n",
       "Nearby_Schools                      0\n",
       "Nearby_Hospitals                    0\n",
       "Public_Transport_Accessibility      0\n",
       "Parking_Space                       0\n",
       "Security                            0\n",
       "Amenities                           0\n",
       "Facing                              0\n",
       "Owner_Type                         64\n",
       "Availability_Status                44\n",
       "dtype: int64"
      ]
     },
     "execution_count": 126,
     "metadata": {},
     "output_type": "execute_result"
    }
   ],
   "source": [
    "ihp.isnull().sum()"
   ]
  },
  {
   "cell_type": "code",
   "execution_count": 127,
   "id": "7ce9ad8e",
   "metadata": {},
   "outputs": [],
   "source": [
    "ihp[\"Furnished_Status\"].fillna(ihp[\"Furnished_Status\"].mode()[0],inplace=True)"
   ]
  },
  {
   "cell_type": "code",
   "execution_count": 128,
   "id": "5cb51ee2",
   "metadata": {},
   "outputs": [],
   "source": [
    "ihp[\"Floor_No\"].fillna(ihp[\"Floor_No\"].mean(),inplace=True)"
   ]
  },
  {
   "cell_type": "code",
   "execution_count": 129,
   "id": "60126264",
   "metadata": {},
   "outputs": [],
   "source": [
    "ihp[\"Owner_Type\"].fillna(ihp[\"Owner_Type\"].mode()[0],inplace=True)"
   ]
  },
  {
   "cell_type": "code",
   "execution_count": 130,
   "id": "088a36ae",
   "metadata": {},
   "outputs": [],
   "source": [
    "ihp[\"Availability_Status\"].fillna(ihp[\"Availability_Status\"].mode()[0],inplace=True)"
   ]
  },
  {
   "cell_type": "code",
   "execution_count": 131,
   "id": "83071aa2",
   "metadata": {},
   "outputs": [
    {
     "data": {
      "text/plain": [
       "State                             0\n",
       "City                              0\n",
       "Locality                          0\n",
       "Property_Type                     0\n",
       "BHK                               0\n",
       "Size_in_SqFt                      0\n",
       "Price_in_Lakhs                    0\n",
       "Price_per_SqFt                    0\n",
       "Year_Built                        0\n",
       "Furnished_Status                  0\n",
       "Floor_No                          0\n",
       "Total_Floors                      0\n",
       "Age_of_Property                   0\n",
       "Nearby_Schools                    0\n",
       "Nearby_Hospitals                  0\n",
       "Public_Transport_Accessibility    0\n",
       "Parking_Space                     0\n",
       "Security                          0\n",
       "Amenities                         0\n",
       "Facing                            0\n",
       "Owner_Type                        0\n",
       "Availability_Status               0\n",
       "dtype: int64"
      ]
     },
     "execution_count": 131,
     "metadata": {},
     "output_type": "execute_result"
    }
   ],
   "source": [
    "ihp.isnull().sum()"
   ]
  },
  {
   "cell_type": "code",
   "execution_count": 132,
   "id": "5e0f4d3d",
   "metadata": {},
   "outputs": [],
   "source": [
    "ihp.Locality=ihp[\"Locality\"].apply(lambda x:x.split('_')[1])"
   ]
  },
  {
   "cell_type": "code",
   "execution_count": 133,
   "id": "237e01eb",
   "metadata": {},
   "outputs": [],
   "source": [
    "data = ihp.copy()"
   ]
  },
  {
   "cell_type": "code",
   "execution_count": 134,
   "id": "ac4659d8",
   "metadata": {},
   "outputs": [],
   "source": [
    "X = data.drop(\"Price_in_Lakhs\",axis=1)\n",
    "y = data.Price_in_Lakhs"
   ]
  },
  {
   "cell_type": "code",
   "execution_count": 135,
   "id": "066fe8c0",
   "metadata": {},
   "outputs": [],
   "source": [
    "xtrain , xtest , ytrain , ytest = train_test_split(X,y,test_size=0.2,random_state=35)"
   ]
  },
  {
   "cell_type": "code",
   "execution_count": 136,
   "id": "5c19da8a",
   "metadata": {},
   "outputs": [
    {
     "data": {
      "text/plain": [
       "State\n",
       "Tamil Nadu        5.076480\n",
       "Delhi             5.059457\n",
       "Odisha            5.058455\n",
       "West Bengal       5.056453\n",
       "Punjab            5.031418\n",
       "Gujarat           5.029415\n",
       "Uttar Pradesh     5.027413\n",
       "Kerala            5.011891\n",
       "Maharashtra       5.007385\n",
       "Uttarakhand       5.004882\n",
       "Andhra Pradesh    5.001878\n",
       "Telangana         4.998373\n",
       "Jharkhand         4.981349\n",
       "Haryana           4.977344\n",
       "Assam             4.963325\n",
       "Karnataka         4.961322\n",
       "Madhya Pradesh    4.960320\n",
       "Rajasthan         4.944298\n",
       "Chhattisgarh      4.935286\n",
       "Bihar             4.913256\n",
       "Name: proportion, dtype: float64"
      ]
     },
     "execution_count": 136,
     "metadata": {},
     "output_type": "execute_result"
    }
   ],
   "source": [
    "xtrain.State.value_counts(normalize=True)*100"
   ]
  },
  {
   "cell_type": "code",
   "execution_count": 137,
   "id": "691d1c04",
   "metadata": {},
   "outputs": [
    {
     "data": {
      "text/plain": [
       "42"
      ]
     },
     "execution_count": 137,
     "metadata": {},
     "output_type": "execute_result"
    }
   ],
   "source": [
    "xtrain.City.nunique()"
   ]
  },
  {
   "cell_type": "markdown",
   "id": "81d82321",
   "metadata": {},
   "source": [
    "# outlier treatment in train data "
   ]
  },
  {
   "cell_type": "code",
   "execution_count": 138,
   "id": "b2174966",
   "metadata": {},
   "outputs": [],
   "source": [
    "for i in xtrain.select_dtypes(include=np.number):\n",
    "    q1=xtrain[i].quantile(0.25)\n",
    "    q3=xtrain[i].quantile(0.75)\n",
    "    iqr= q3-q1\n",
    "    u=q3+1.5*(iqr)\n",
    "    l=q1-1.5*(iqr)\n",
    "    xtrain[i]=xtrain[i].clip(lower=l,upper=u)"
   ]
  },
  {
   "cell_type": "markdown",
   "id": "161fdc7b",
   "metadata": {},
   "source": [
    "# Encoding "
   ]
  },
  {
   "cell_type": "code",
   "execution_count": 139,
   "id": "4ef0913a",
   "metadata": {},
   "outputs": [
    {
     "data": {
      "text/plain": [
       "array(['No', 'Yes'], dtype=object)"
      ]
     },
     "execution_count": 139,
     "metadata": {},
     "output_type": "execute_result"
    }
   ],
   "source": [
    "xtrain.Parking_Space.unique()"
   ]
  },
  {
   "cell_type": "code",
   "execution_count": 140,
   "id": "1092a29d",
   "metadata": {},
   "outputs": [],
   "source": [
    "xtest.Parking_Space=xtest.Parking_Space.apply(lambda x:1 if x==\"Yes\" else 0)\n",
    "xtrain.Parking_Space=xtrain.Parking_Space.apply(lambda x:1 if x==\"Yes\" else 0)\n",
    "\n",
    "\n",
    "\n"
   ]
  },
  {
   "cell_type": "code",
   "execution_count": 141,
   "id": "ea346b24",
   "metadata": {},
   "outputs": [],
   "source": [
    "xtest.Security=xtest.Security.apply(lambda x:1 if x==\"Yes\" else 0)\n",
    "xtrain.Security=xtrain.Security.apply(lambda x:1 if x==\"Yes\" else 0)\n"
   ]
  },
  {
   "cell_type": "markdown",
   "id": "7f16b778",
   "metadata": {},
   "source": [
    "# Convert locality into int "
   ]
  },
  {
   "cell_type": "code",
   "execution_count": 142,
   "id": "a1a8928c",
   "metadata": {},
   "outputs": [
    {
     "name": "stderr",
     "output_type": "stream",
     "text": [
      "/Users/devanshusingh/Documents/Python/env/lib/python3.13/site-packages/pandas/core/dtypes/common.py:1645: DeprecationWarning: Converting `np.inexact` or `np.floating` to a dtype is deprecated. The current result is `float64` which is not strictly correct.\n",
      "  npdtype = np.dtype(dtype)\n"
     ]
    }
   ],
   "source": [
    "xtrain.Locality=xtrain.Locality.astype(np.number)"
   ]
  },
  {
   "cell_type": "code",
   "execution_count": 143,
   "id": "36b28eeb",
   "metadata": {},
   "outputs": [
    {
     "data": {
      "text/plain": [
       "array(['Under_Construction', 'Ready_to_Move'], dtype=object)"
      ]
     },
     "execution_count": 143,
     "metadata": {},
     "output_type": "execute_result"
    }
   ],
   "source": [
    "xtrain.Availability_Status.unique()"
   ]
  },
  {
   "cell_type": "code",
   "execution_count": 144,
   "id": "9685f066",
   "metadata": {},
   "outputs": [],
   "source": [
    "import warnings\n",
    "warnings.filterwarnings(\"ignore\")"
   ]
  },
  {
   "cell_type": "code",
   "execution_count": 145,
   "id": "4e17f55f",
   "metadata": {},
   "outputs": [],
   "source": [
    "xtrain.Availability_Status=xtrain.Availability_Status.apply(lambda x:1 if x== \"Ready_to_Move\" else 0  )\n",
    "xtest.Availability_Status=xtest.Availability_Status.apply(lambda x:1 if x==\"Ready_to_Move\" else 0  )"
   ]
  },
  {
   "cell_type": "code",
   "execution_count": 146,
   "id": "f06d469a",
   "metadata": {},
   "outputs": [],
   "source": [
    "xtrain.Public_Transport_Accessibility=xtrain.Public_Transport_Accessibility.apply(lambda x:3 if x==\"High\" else 2 if x==\"Medium\" else 1  )\n",
    "xtest.Public_Transport_Accessibility=xtest.Public_Transport_Accessibility.apply(lambda x:3 if x==\"High\" else 2 if x==\"Medium\" else 1 )"
   ]
  },
  {
   "cell_type": "code",
   "execution_count": 147,
   "id": "ed46adbd",
   "metadata": {},
   "outputs": [
    {
     "name": "stdout",
     "output_type": "stream",
     "text": [
      "<class 'pandas.core.frame.DataFrame'>\n",
      "Index: 199725 entries, 119941 to 202441\n",
      "Data columns (total 21 columns):\n",
      " #   Column                          Non-Null Count   Dtype  \n",
      "---  ------                          --------------   -----  \n",
      " 0   State                           199725 non-null  object \n",
      " 1   City                            199725 non-null  object \n",
      " 2   Locality                        199725 non-null  float64\n",
      " 3   Property_Type                   199725 non-null  object \n",
      " 4   BHK                             199725 non-null  int64  \n",
      " 5   Size_in_SqFt                    199725 non-null  float64\n",
      " 6   Price_per_SqFt                  199725 non-null  float64\n",
      " 7   Year_Built                      199725 non-null  int64  \n",
      " 8   Furnished_Status                199725 non-null  object \n",
      " 9   Floor_No                        199725 non-null  float64\n",
      " 10  Total_Floors                    199725 non-null  int64  \n",
      " 11  Age_of_Property                 199725 non-null  float64\n",
      " 12  Nearby_Schools                  199725 non-null  int64  \n",
      " 13  Nearby_Hospitals                199725 non-null  int64  \n",
      " 14  Public_Transport_Accessibility  199725 non-null  int64  \n",
      " 15  Parking_Space                   199725 non-null  int64  \n",
      " 16  Security                        199725 non-null  int64  \n",
      " 17  Amenities                       199725 non-null  object \n",
      " 18  Facing                          199725 non-null  object \n",
      " 19  Owner_Type                      199725 non-null  object \n",
      " 20  Availability_Status             199725 non-null  int64  \n",
      "dtypes: float64(5), int64(9), object(7)\n",
      "memory usage: 33.5+ MB\n"
     ]
    }
   ],
   "source": [
    "xtrain.info()"
   ]
  },
  {
   "cell_type": "code",
   "execution_count": 148,
   "id": "9e0d26ad",
   "metadata": {},
   "outputs": [
    {
     "data": {
      "text/plain": [
       "array(['Semi-furnished', 'Unfurnished', 'Furnished'], dtype=object)"
      ]
     },
     "execution_count": 148,
     "metadata": {},
     "output_type": "execute_result"
    }
   ],
   "source": [
    "xtrain.Furnished_Status.unique() "
   ]
  },
  {
   "cell_type": "code",
   "execution_count": 149,
   "id": "8e1db26c",
   "metadata": {},
   "outputs": [],
   "source": [
    "xtrain.Furnished_Status=xtrain.Furnished_Status.apply(lambda x:3 if x==\"Furnished\" else 2 if x==\"Semi-furnished\" else 1)"
   ]
  },
  {
   "cell_type": "code",
   "execution_count": 150,
   "id": "d31f49af",
   "metadata": {},
   "outputs": [],
   "source": [
    "xtest.Furnished_Status=xtest.Furnished_Status.apply(lambda x:3 if x==\"Furnished\" else 2 if x==\"Semi-furnished\" else 1)"
   ]
  },
  {
   "cell_type": "code",
   "execution_count": 151,
   "id": "91bb40e3",
   "metadata": {},
   "outputs": [
    {
     "data": {
      "text/plain": [
       "array([2, 3, 1])"
      ]
     },
     "execution_count": 151,
     "metadata": {},
     "output_type": "execute_result"
    }
   ],
   "source": [
    "xtrain.Furnished_Status.unique() # cross checking categories are updated or not \n",
    "xtest.Furnished_Status.unique()"
   ]
  },
  {
   "cell_type": "code",
   "execution_count": 152,
   "id": "7a5bdf31",
   "metadata": {},
   "outputs": [
    {
     "data": {
      "text/plain": [
       "array(['North', 'East', 'South', 'West'], dtype=object)"
      ]
     },
     "execution_count": 152,
     "metadata": {},
     "output_type": "execute_result"
    }
   ],
   "source": [
    "xtrain.Facing.unique()"
   ]
  },
  {
   "cell_type": "code",
   "execution_count": 153,
   "id": "4f441f29",
   "metadata": {},
   "outputs": [],
   "source": [
    "g1=pd.concat([xtrain.Facing,ytrain],axis=1).groupby(\"Facing\")[\"Price_in_Lakhs\"].mean()"
   ]
  },
  {
   "cell_type": "code",
   "execution_count": 154,
   "id": "0f49818a",
   "metadata": {},
   "outputs": [],
   "source": [
    "xtrain.Facing=xtrain.Facing.map(g1)"
   ]
  },
  {
   "cell_type": "code",
   "execution_count": 155,
   "id": "040c3b54",
   "metadata": {},
   "outputs": [],
   "source": [
    "xtest.Facing=xtest.Facing.map(g1).fillna(np.mean(ytrain))"
   ]
  },
  {
   "cell_type": "code",
   "execution_count": 156,
   "id": "8c78a6f9",
   "metadata": {},
   "outputs": [
    {
     "data": {
      "text/plain": [
       "array(['Builder', 'Owner', 'Broker'], dtype=object)"
      ]
     },
     "execution_count": 156,
     "metadata": {},
     "output_type": "execute_result"
    }
   ],
   "source": [
    "xtrain.Owner_Type.unique()"
   ]
  },
  {
   "cell_type": "code",
   "execution_count": 157,
   "id": "2965b815",
   "metadata": {},
   "outputs": [
    {
     "name": "stderr",
     "output_type": "stream",
     "text": [
      "/Users/devanshusingh/Documents/Python/env/lib/python3.13/site-packages/pandas/core/dtypes/common.py:1645: DeprecationWarning: Converting `np.inexact` or `np.floating` to a dtype is deprecated. The current result is `float64` which is not strictly correct.\n",
      "  npdtype = np.dtype(dtype)\n"
     ]
    }
   ],
   "source": [
    "v= pd.get_dummies(xtrain.Owner_Type)\n",
    "v=v.astype(np.number)"
   ]
  },
  {
   "cell_type": "markdown",
   "id": "f12eb7cd-63b3-410f-af6d-b85ae4d7633b",
   "metadata": {},
   "source": []
  },
  {
   "cell_type": "code",
   "execution_count": 158,
   "id": "1b576aca",
   "metadata": {},
   "outputs": [],
   "source": [
    "xtrain=pd.concat([xtrain,v],axis=1)"
   ]
  },
  {
   "cell_type": "code",
   "execution_count": 159,
   "id": "b79bc87a",
   "metadata": {},
   "outputs": [
    {
     "data": {
      "text/plain": [
       "(199725, 24)"
      ]
     },
     "execution_count": 159,
     "metadata": {},
     "output_type": "execute_result"
    }
   ],
   "source": [
    "xtrain.shape"
   ]
  },
  {
   "cell_type": "code",
   "execution_count": null,
   "id": "97f13c44",
   "metadata": {},
   "outputs": [],
   "source": []
  },
  {
   "cell_type": "code",
   "execution_count": 160,
   "id": "c60bfe4b",
   "metadata": {},
   "outputs": [
    {
     "name": "stderr",
     "output_type": "stream",
     "text": [
      "/Users/devanshusingh/Documents/Python/env/lib/python3.13/site-packages/pandas/core/dtypes/common.py:1645: DeprecationWarning: Converting `np.inexact` or `np.floating` to a dtype is deprecated. The current result is `float64` which is not strictly correct.\n",
      "  npdtype = np.dtype(dtype)\n"
     ]
    }
   ],
   "source": [
    "b= pd.get_dummies(xtest.Owner_Type)\n",
    "b=b.astype(np.number)"
   ]
  },
  {
   "cell_type": "code",
   "execution_count": 161,
   "id": "ffd20192",
   "metadata": {},
   "outputs": [],
   "source": [
    "xtest=pd.concat([xtest,b],axis=1)"
   ]
  },
  {
   "cell_type": "code",
   "execution_count": 162,
   "id": "7bae1acc",
   "metadata": {},
   "outputs": [
    {
     "data": {
      "text/plain": [
       "(49932, 24)"
      ]
     },
     "execution_count": 162,
     "metadata": {},
     "output_type": "execute_result"
    }
   ],
   "source": [
    "xtest.shape"
   ]
  },
  {
   "cell_type": "code",
   "execution_count": 163,
   "id": "2ef50cba",
   "metadata": {},
   "outputs": [],
   "source": [
    "xtrain.drop(\"Owner_Type\",axis=1,inplace=True)"
   ]
  },
  {
   "cell_type": "code",
   "execution_count": 164,
   "id": "c4631cce",
   "metadata": {},
   "outputs": [],
   "source": [
    "xtest.drop(\"Owner_Type\",axis=1,inplace=True)"
   ]
  },
  {
   "cell_type": "code",
   "execution_count": 165,
   "id": "521ab37f",
   "metadata": {},
   "outputs": [
    {
     "name": "stdout",
     "output_type": "stream",
     "text": [
      "(199725, 23) (49932, 23)\n"
     ]
    }
   ],
   "source": [
    "print(xtrain.shape,xtest.shape)"
   ]
  },
  {
   "cell_type": "markdown",
   "id": "4874a9be",
   "metadata": {},
   "source": [
    "# Encoding for State"
   ]
  },
  {
   "cell_type": "code",
   "execution_count": 166,
   "id": "88c7bc74",
   "metadata": {},
   "outputs": [],
   "source": [
    "state=pd.concat([xtrain.State,ytrain],axis=1).groupby(\"State\")[\"Price_in_Lakhs\"].mean()"
   ]
  },
  {
   "cell_type": "code",
   "execution_count": 167,
   "id": "f3db84d8",
   "metadata": {},
   "outputs": [],
   "source": [
    "xtrain.State=xtrain.State.map(state)"
   ]
  },
  {
   "cell_type": "code",
   "execution_count": 168,
   "id": "d4a7d704",
   "metadata": {},
   "outputs": [],
   "source": [
    "xtest.State=xtest.State.map(state).fillna(np.mean(ytrain))"
   ]
  },
  {
   "cell_type": "code",
   "execution_count": 169,
   "id": "9cc8ccb0",
   "metadata": {},
   "outputs": [
    {
     "data": {
      "text/html": [
       "<div>\n",
       "<style scoped>\n",
       "    .dataframe tbody tr th:only-of-type {\n",
       "        vertical-align: middle;\n",
       "    }\n",
       "\n",
       "    .dataframe tbody tr th {\n",
       "        vertical-align: top;\n",
       "    }\n",
       "\n",
       "    .dataframe thead th {\n",
       "        text-align: right;\n",
       "    }\n",
       "</style>\n",
       "<table border=\"1\" class=\"dataframe\">\n",
       "  <thead>\n",
       "    <tr style=\"text-align: right;\">\n",
       "      <th></th>\n",
       "      <th>State</th>\n",
       "      <th>City</th>\n",
       "      <th>Locality</th>\n",
       "      <th>Property_Type</th>\n",
       "      <th>BHK</th>\n",
       "      <th>Size_in_SqFt</th>\n",
       "      <th>Price_per_SqFt</th>\n",
       "      <th>Year_Built</th>\n",
       "      <th>Furnished_Status</th>\n",
       "      <th>Floor_No</th>\n",
       "      <th>Total_Floors</th>\n",
       "      <th>Age_of_Property</th>\n",
       "      <th>Nearby_Schools</th>\n",
       "      <th>Nearby_Hospitals</th>\n",
       "      <th>Public_Transport_Accessibility</th>\n",
       "      <th>Parking_Space</th>\n",
       "      <th>Security</th>\n",
       "      <th>Amenities</th>\n",
       "      <th>Facing</th>\n",
       "      <th>Availability_Status</th>\n",
       "      <th>Broker</th>\n",
       "      <th>Builder</th>\n",
       "      <th>Owner</th>\n",
       "    </tr>\n",
       "  </thead>\n",
       "  <tbody>\n",
       "    <tr>\n",
       "      <th>216954</th>\n",
       "      <td>254.247848</td>\n",
       "      <td>Jaipur</td>\n",
       "      <td>144</td>\n",
       "      <td>Independent House</td>\n",
       "      <td>2</td>\n",
       "      <td>4327.0</td>\n",
       "      <td>0.1</td>\n",
       "      <td>2018</td>\n",
       "      <td>2</td>\n",
       "      <td>23.0</td>\n",
       "      <td>8</td>\n",
       "      <td>7.0</td>\n",
       "      <td>6</td>\n",
       "      <td>6</td>\n",
       "      <td>1</td>\n",
       "      <td>0</td>\n",
       "      <td>0</td>\n",
       "      <td>Garden</td>\n",
       "      <td>253.195494</td>\n",
       "      <td>0</td>\n",
       "      <td>1.0</td>\n",
       "      <td>0.0</td>\n",
       "      <td>0.0</td>\n",
       "    </tr>\n",
       "  </tbody>\n",
       "</table>\n",
       "</div>"
      ],
      "text/plain": [
       "             State    City Locality      Property_Type  BHK  Size_in_SqFt  \\\n",
       "216954  254.247848  Jaipur      144  Independent House    2        4327.0   \n",
       "\n",
       "        Price_per_SqFt  Year_Built  Furnished_Status  Floor_No  Total_Floors  \\\n",
       "216954             0.1        2018                 2      23.0             8   \n",
       "\n",
       "        Age_of_Property  Nearby_Schools  Nearby_Hospitals  \\\n",
       "216954              7.0               6                 6   \n",
       "\n",
       "        Public_Transport_Accessibility  Parking_Space  Security Amenities  \\\n",
       "216954                               1              0         0    Garden   \n",
       "\n",
       "            Facing  Availability_Status  Broker  Builder  Owner  \n",
       "216954  253.195494                    0     1.0      0.0    0.0  "
      ]
     },
     "execution_count": 169,
     "metadata": {},
     "output_type": "execute_result"
    }
   ],
   "source": [
    "xtrain.head(1)\n",
    "xtest.head(1)\n"
   ]
  },
  {
   "cell_type": "markdown",
   "id": "1c278f96",
   "metadata": {},
   "source": [
    "# encoding for city "
   ]
  },
  {
   "cell_type": "code",
   "execution_count": 170,
   "id": "521a43e8",
   "metadata": {},
   "outputs": [],
   "source": [
    "train_tar_city2=pd.concat([xtrain.City,ytrain],axis=1).groupby(\"City\")[\"Price_in_Lakhs\"].mean()\n",
    "\n",
    "xtrain.City=xtrain.City.map(train_tar_city2)\n",
    "\n",
    "xtest.City=xtest.City.map(train_tar_city2).fillna(np.mean(ytrain))"
   ]
  },
  {
   "cell_type": "markdown",
   "id": "aa8eb3e4",
   "metadata": {},
   "source": [
    "# encoding property type "
   ]
  },
  {
   "cell_type": "code",
   "execution_count": 171,
   "id": "0855c547",
   "metadata": {},
   "outputs": [],
   "source": [
    "property_type=pd.concat([xtrain.Property_Type,ytrain],axis=1).groupby(\"Property_Type\")[\"Price_in_Lakhs\"].mean()\n",
    "\n",
    "xtrain.Property_Type=xtrain.Property_Type.map(property_type)\n",
    "\n",
    "xtest.Property_Type=xtest.Property_Type.map(property_type).fillna(np.mean(ytrain))"
   ]
  },
  {
   "cell_type": "markdown",
   "id": "c0e38bf1",
   "metadata": {},
   "source": [
    "# Encoding for amineties "
   ]
  },
  {
   "cell_type": "code",
   "execution_count": 172,
   "id": "2e3f5701",
   "metadata": {},
   "outputs": [],
   "source": [
    "train_tar_Amenities=pd.concat([xtrain.Amenities,ytrain],axis=1).groupby(\"Amenities\")[\"Price_in_Lakhs\"].mean()\n",
    "\n",
    "xtrain.Amenities=xtrain.Amenities.map(train_tar_Amenities)\n",
    "\n",
    "xtest.Amenities=xtest.Amenities.map(train_tar_Amenities).fillna(np.mean(ytrain))"
   ]
  },
  {
   "cell_type": "code",
   "execution_count": 173,
   "id": "1e30d1df",
   "metadata": {},
   "outputs": [
    {
     "name": "stdout",
     "output_type": "stream",
     "text": [
      "<class 'pandas.core.frame.DataFrame'>\n",
      "Index: 199725 entries, 119941 to 202441\n",
      "Data columns (total 23 columns):\n",
      " #   Column                          Non-Null Count   Dtype  \n",
      "---  ------                          --------------   -----  \n",
      " 0   State                           199725 non-null  float64\n",
      " 1   City                            199725 non-null  float64\n",
      " 2   Locality                        199725 non-null  float64\n",
      " 3   Property_Type                   199725 non-null  float64\n",
      " 4   BHK                             199725 non-null  int64  \n",
      " 5   Size_in_SqFt                    199725 non-null  float64\n",
      " 6   Price_per_SqFt                  199725 non-null  float64\n",
      " 7   Year_Built                      199725 non-null  int64  \n",
      " 8   Furnished_Status                199725 non-null  int64  \n",
      " 9   Floor_No                        199725 non-null  float64\n",
      " 10  Total_Floors                    199725 non-null  int64  \n",
      " 11  Age_of_Property                 199725 non-null  float64\n",
      " 12  Nearby_Schools                  199725 non-null  int64  \n",
      " 13  Nearby_Hospitals                199725 non-null  int64  \n",
      " 14  Public_Transport_Accessibility  199725 non-null  int64  \n",
      " 15  Parking_Space                   199725 non-null  int64  \n",
      " 16  Security                        199725 non-null  int64  \n",
      " 17  Amenities                       199725 non-null  float64\n",
      " 18  Facing                          199725 non-null  float64\n",
      " 19  Availability_Status             199725 non-null  int64  \n",
      " 20  Broker                          199725 non-null  float64\n",
      " 21  Builder                         199725 non-null  float64\n",
      " 22  Owner                           199725 non-null  float64\n",
      "dtypes: float64(13), int64(10)\n",
      "memory usage: 36.6 MB\n"
     ]
    }
   ],
   "source": [
    "xtrain.info()"
   ]
  },
  {
   "cell_type": "code",
   "execution_count": 174,
   "id": "40542f5f",
   "metadata": {},
   "outputs": [
    {
     "name": "stdout",
     "output_type": "stream",
     "text": [
      "<class 'pandas.core.frame.DataFrame'>\n",
      "Index: 49932 entries, 216954 to 146648\n",
      "Data columns (total 23 columns):\n",
      " #   Column                          Non-Null Count  Dtype  \n",
      "---  ------                          --------------  -----  \n",
      " 0   State                           49932 non-null  float64\n",
      " 1   City                            49932 non-null  float64\n",
      " 2   Locality                        49932 non-null  object \n",
      " 3   Property_Type                   49932 non-null  float64\n",
      " 4   BHK                             49932 non-null  int64  \n",
      " 5   Size_in_SqFt                    49932 non-null  float64\n",
      " 6   Price_per_SqFt                  49932 non-null  float64\n",
      " 7   Year_Built                      49932 non-null  int64  \n",
      " 8   Furnished_Status                49932 non-null  int64  \n",
      " 9   Floor_No                        49932 non-null  float64\n",
      " 10  Total_Floors                    49932 non-null  int64  \n",
      " 11  Age_of_Property                 49932 non-null  float64\n",
      " 12  Nearby_Schools                  49932 non-null  int64  \n",
      " 13  Nearby_Hospitals                49932 non-null  int64  \n",
      " 14  Public_Transport_Accessibility  49932 non-null  int64  \n",
      " 15  Parking_Space                   49932 non-null  int64  \n",
      " 16  Security                        49932 non-null  int64  \n",
      " 17  Amenities                       49932 non-null  float64\n",
      " 18  Facing                          49932 non-null  float64\n",
      " 19  Availability_Status             49932 non-null  int64  \n",
      " 20  Broker                          49932 non-null  float64\n",
      " 21  Builder                         49932 non-null  float64\n",
      " 22  Owner                           49932 non-null  float64\n",
      "dtypes: float64(12), int64(10), object(1)\n",
      "memory usage: 9.1+ MB\n"
     ]
    }
   ],
   "source": [
    "xtest.info()"
   ]
  },
  {
   "cell_type": "code",
   "execution_count": 175,
   "id": "3692aa22",
   "metadata": {},
   "outputs": [
    {
     "name": "stderr",
     "output_type": "stream",
     "text": [
      "/Users/devanshusingh/Documents/Python/env/lib/python3.13/site-packages/pandas/core/dtypes/common.py:1645: DeprecationWarning: Converting `np.inexact` or `np.floating` to a dtype is deprecated. The current result is `float64` which is not strictly correct.\n",
      "  npdtype = np.dtype(dtype)\n"
     ]
    }
   ],
   "source": [
    "xtest.Locality=xtest.Locality.astype(np.number)\n",
    "\n"
   ]
  },
  {
   "cell_type": "code",
   "execution_count": 176,
   "id": "ae6bf735",
   "metadata": {},
   "outputs": [
    {
     "name": "stdout",
     "output_type": "stream",
     "text": [
      "<class 'pandas.core.frame.DataFrame'>\n",
      "Index: 49932 entries, 216954 to 146648\n",
      "Data columns (total 23 columns):\n",
      " #   Column                          Non-Null Count  Dtype  \n",
      "---  ------                          --------------  -----  \n",
      " 0   State                           49932 non-null  float64\n",
      " 1   City                            49932 non-null  float64\n",
      " 2   Locality                        49932 non-null  float64\n",
      " 3   Property_Type                   49932 non-null  float64\n",
      " 4   BHK                             49932 non-null  int64  \n",
      " 5   Size_in_SqFt                    49932 non-null  float64\n",
      " 6   Price_per_SqFt                  49932 non-null  float64\n",
      " 7   Year_Built                      49932 non-null  int64  \n",
      " 8   Furnished_Status                49932 non-null  int64  \n",
      " 9   Floor_No                        49932 non-null  float64\n",
      " 10  Total_Floors                    49932 non-null  int64  \n",
      " 11  Age_of_Property                 49932 non-null  float64\n",
      " 12  Nearby_Schools                  49932 non-null  int64  \n",
      " 13  Nearby_Hospitals                49932 non-null  int64  \n",
      " 14  Public_Transport_Accessibility  49932 non-null  int64  \n",
      " 15  Parking_Space                   49932 non-null  int64  \n",
      " 16  Security                        49932 non-null  int64  \n",
      " 17  Amenities                       49932 non-null  float64\n",
      " 18  Facing                          49932 non-null  float64\n",
      " 19  Availability_Status             49932 non-null  int64  \n",
      " 20  Broker                          49932 non-null  float64\n",
      " 21  Builder                         49932 non-null  float64\n",
      " 22  Owner                           49932 non-null  float64\n",
      "dtypes: float64(13), int64(10)\n",
      "memory usage: 9.1 MB\n"
     ]
    }
   ],
   "source": [
    "xtest.info()"
   ]
  },
  {
   "cell_type": "code",
   "execution_count": 177,
   "id": "ac326378",
   "metadata": {},
   "outputs": [],
   "source": [
    "xtrain_c = sm.add_constant(xtrain)\n",
    "xtest_c =  sm.add_constant(xtest)\n"
   ]
  },
  {
   "cell_type": "code",
   "execution_count": 178,
   "id": "4107c0e0",
   "metadata": {},
   "outputs": [],
   "source": [
    "lr_model = sm.OLS(ytrain,xtrain_c).fit()"
   ]
  },
  {
   "cell_type": "code",
   "execution_count": 179,
   "id": "fd89b589",
   "metadata": {},
   "outputs": [
    {
     "data": {
      "text/html": [
       "<table class=\"simpletable\">\n",
       "<caption>OLS Regression Results</caption>\n",
       "<tr>\n",
       "  <th>Dep. Variable:</th>     <td>Price_in_Lakhs</td>  <th>  R-squared:         </th>  <td>   0.706</td>  \n",
       "</tr>\n",
       "<tr>\n",
       "  <th>Model:</th>                   <td>OLS</td>       <th>  Adj. R-squared:    </th>  <td>   0.705</td>  \n",
       "</tr>\n",
       "<tr>\n",
       "  <th>Method:</th>             <td>Least Squares</td>  <th>  F-statistic:       </th>  <td>2.175e+04</td> \n",
       "</tr>\n",
       "<tr>\n",
       "  <th>Date:</th>             <td>Tue, 08 Apr 2025</td> <th>  Prob (F-statistic):</th>   <td>  0.00</td>   \n",
       "</tr>\n",
       "<tr>\n",
       "  <th>Time:</th>                 <td>16:44:48</td>     <th>  Log-Likelihood:    </th> <td>-1.1500e+06</td>\n",
       "</tr>\n",
       "<tr>\n",
       "  <th>No. Observations:</th>      <td>199725</td>      <th>  AIC:               </th>  <td>2.300e+06</td> \n",
       "</tr>\n",
       "<tr>\n",
       "  <th>Df Residuals:</th>          <td>199702</td>      <th>  BIC:               </th>  <td>2.300e+06</td> \n",
       "</tr>\n",
       "<tr>\n",
       "  <th>Df Model:</th>              <td>    22</td>      <th>                     </th>      <td> </td>     \n",
       "</tr>\n",
       "<tr>\n",
       "  <th>Covariance Type:</th>      <td>nonrobust</td>    <th>                     </th>      <td> </td>     \n",
       "</tr>\n",
       "</table>\n",
       "<table class=\"simpletable\">\n",
       "<tr>\n",
       "                 <td></td>                   <th>coef</th>     <th>std err</th>      <th>t</th>      <th>P>|t|</th>  <th>[0.025</th>    <th>0.975]</th>  \n",
       "</tr>\n",
       "<tr>\n",
       "  <th>const</th>                          <td>  419.7529</td> <td> 1278.998</td> <td>    0.328</td> <td> 0.743</td> <td>-2087.052</td> <td> 2926.558</td>\n",
       "</tr>\n",
       "<tr>\n",
       "  <th>State</th>                          <td>    0.0895</td> <td>    0.189</td> <td>    0.475</td> <td> 0.635</td> <td>   -0.280</td> <td>    0.459</td>\n",
       "</tr>\n",
       "<tr>\n",
       "  <th>City</th>                           <td>    0.2545</td> <td>    0.131</td> <td>    1.939</td> <td> 0.053</td> <td>   -0.003</td> <td>    0.512</td>\n",
       "</tr>\n",
       "<tr>\n",
       "  <th>Locality</th>                       <td>    0.0018</td> <td>    0.001</td> <td>    1.522</td> <td> 0.128</td> <td>   -0.001</td> <td>    0.004</td>\n",
       "</tr>\n",
       "<tr>\n",
       "  <th>Property_Type</th>                  <td>    0.8787</td> <td>    0.311</td> <td>    2.829</td> <td> 0.005</td> <td>    0.270</td> <td>    1.487</td>\n",
       "</tr>\n",
       "<tr>\n",
       "  <th>BHK</th>                            <td>   -0.1157</td> <td>    0.121</td> <td>   -0.955</td> <td> 0.339</td> <td>   -0.353</td> <td>    0.122</td>\n",
       "</tr>\n",
       "<tr>\n",
       "  <th>Size_in_SqFt</th>                   <td>    0.0788</td> <td>    0.000</td> <td>  451.378</td> <td> 0.000</td> <td>    0.078</td> <td>    0.079</td>\n",
       "</tr>\n",
       "<tr>\n",
       "  <th>Price_per_SqFt</th>                 <td> 1700.9283</td> <td>    2.462</td> <td>  690.813</td> <td> 0.000</td> <td> 1696.102</td> <td> 1705.754</td>\n",
       "</tr>\n",
       "<tr>\n",
       "  <th>Year_Built</th>                     <td>   -0.5776</td> <td>    0.840</td> <td>   -0.687</td> <td> 0.492</td> <td>   -2.225</td> <td>    1.070</td>\n",
       "</tr>\n",
       "<tr>\n",
       "  <th>Furnished_Status</th>               <td>   -0.0206</td> <td>    0.210</td> <td>   -0.098</td> <td> 0.922</td> <td>   -0.432</td> <td>    0.391</td>\n",
       "</tr>\n",
       "<tr>\n",
       "  <th>Floor_No</th>                       <td>    0.0132</td> <td>    0.019</td> <td>    0.691</td> <td> 0.490</td> <td>   -0.024</td> <td>    0.051</td>\n",
       "</tr>\n",
       "<tr>\n",
       "  <th>Total_Floors</th>                   <td>   -0.0204</td> <td>    0.020</td> <td>   -1.033</td> <td> 0.302</td> <td>   -0.059</td> <td>    0.018</td>\n",
       "</tr>\n",
       "<tr>\n",
       "  <th>Age_of_Property</th>                <td>   -0.5933</td> <td>    0.841</td> <td>   -0.706</td> <td> 0.480</td> <td>   -2.241</td> <td>    1.054</td>\n",
       "</tr>\n",
       "<tr>\n",
       "  <th>Nearby_Schools</th>                 <td>    0.0521</td> <td>    0.060</td> <td>    0.875</td> <td> 0.382</td> <td>   -0.065</td> <td>    0.169</td>\n",
       "</tr>\n",
       "<tr>\n",
       "  <th>Nearby_Hospitals</th>               <td>   -0.0536</td> <td>    0.060</td> <td>   -0.897</td> <td> 0.370</td> <td>   -0.171</td> <td>    0.063</td>\n",
       "</tr>\n",
       "<tr>\n",
       "  <th>Public_Transport_Accessibility</th> <td>    0.2639</td> <td>    0.210</td> <td>    1.258</td> <td> 0.209</td> <td>   -0.147</td> <td>    0.675</td>\n",
       "</tr>\n",
       "<tr>\n",
       "  <th>Parking_Space</th>                  <td>    0.5370</td> <td>    0.343</td> <td>    1.566</td> <td> 0.117</td> <td>   -0.135</td> <td>    1.209</td>\n",
       "</tr>\n",
       "<tr>\n",
       "  <th>Security</th>                       <td>    0.5756</td> <td>    0.343</td> <td>    1.679</td> <td> 0.093</td> <td>   -0.097</td> <td>    1.248</td>\n",
       "</tr>\n",
       "<tr>\n",
       "  <th>Amenities</th>                      <td>    0.3140</td> <td>    0.032</td> <td>    9.915</td> <td> 0.000</td> <td>    0.252</td> <td>    0.376</td>\n",
       "</tr>\n",
       "<tr>\n",
       "  <th>Facing</th>                         <td>    0.2177</td> <td>    0.259</td> <td>    0.841</td> <td> 0.400</td> <td>   -0.290</td> <td>    0.725</td>\n",
       "</tr>\n",
       "<tr>\n",
       "  <th>Availability_Status</th>            <td>    0.4238</td> <td>    0.343</td> <td>    1.236</td> <td> 0.216</td> <td>   -0.248</td> <td>    1.096</td>\n",
       "</tr>\n",
       "<tr>\n",
       "  <th>Broker</th>                         <td>  139.7826</td> <td>  426.332</td> <td>    0.328</td> <td> 0.743</td> <td> -695.818</td> <td>  975.383</td>\n",
       "</tr>\n",
       "<tr>\n",
       "  <th>Builder</th>                        <td>  140.2446</td> <td>  426.333</td> <td>    0.329</td> <td> 0.742</td> <td> -695.358</td> <td>  975.848</td>\n",
       "</tr>\n",
       "<tr>\n",
       "  <th>Owner</th>                          <td>  139.7258</td> <td>  426.333</td> <td>    0.328</td> <td> 0.743</td> <td> -695.876</td> <td>  975.328</td>\n",
       "</tr>\n",
       "</table>\n",
       "<table class=\"simpletable\">\n",
       "<tr>\n",
       "  <th>Omnibus:</th>       <td>10206.353</td> <th>  Durbin-Watson:     </th> <td>   1.999</td> \n",
       "</tr>\n",
       "<tr>\n",
       "  <th>Prob(Omnibus):</th>  <td> 0.000</td>   <th>  Jarque-Bera (JB):  </th> <td>11861.834</td>\n",
       "</tr>\n",
       "<tr>\n",
       "  <th>Skew:</th>           <td>-0.596</td>   <th>  Prob(JB):          </th> <td>    0.00</td> \n",
       "</tr>\n",
       "<tr>\n",
       "  <th>Kurtosis:</th>       <td> 2.953</td>   <th>  Cond. No.          </th> <td>3.68e+18</td> \n",
       "</tr>\n",
       "</table><br/><br/>Notes:<br/>[1] Standard Errors assume that the covariance matrix of the errors is correctly specified.<br/>[2] The smallest eigenvalue is 1.93e-25. This might indicate that there are<br/>strong multicollinearity problems or that the design matrix is singular."
      ],
      "text/latex": [
       "\\begin{center}\n",
       "\\begin{tabular}{lclc}\n",
       "\\toprule\n",
       "\\textbf{Dep. Variable:}                   & Price\\_in\\_Lakhs & \\textbf{  R-squared:         } &      0.706   \\\\\n",
       "\\textbf{Model:}                           &       OLS        & \\textbf{  Adj. R-squared:    } &      0.705   \\\\\n",
       "\\textbf{Method:}                          &  Least Squares   & \\textbf{  F-statistic:       } &  2.175e+04   \\\\\n",
       "\\textbf{Date:}                            & Tue, 08 Apr 2025 & \\textbf{  Prob (F-statistic):} &      0.00    \\\\\n",
       "\\textbf{Time:}                            &     16:44:48     & \\textbf{  Log-Likelihood:    } & -1.1500e+06  \\\\\n",
       "\\textbf{No. Observations:}                &      199725      & \\textbf{  AIC:               } &  2.300e+06   \\\\\n",
       "\\textbf{Df Residuals:}                    &      199702      & \\textbf{  BIC:               } &  2.300e+06   \\\\\n",
       "\\textbf{Df Model:}                        &          22      & \\textbf{                     } &              \\\\\n",
       "\\textbf{Covariance Type:}                 &    nonrobust     & \\textbf{                     } &              \\\\\n",
       "\\bottomrule\n",
       "\\end{tabular}\n",
       "\\begin{tabular}{lcccccc}\n",
       "                                          & \\textbf{coef} & \\textbf{std err} & \\textbf{t} & \\textbf{P$> |$t$|$} & \\textbf{[0.025} & \\textbf{0.975]}  \\\\\n",
       "\\midrule\n",
       "\\textbf{const}                            &     419.7529  &     1278.998     &     0.328  &         0.743        &    -2087.052    &     2926.558     \\\\\n",
       "\\textbf{State}                            &       0.0895  &        0.189     &     0.475  &         0.635        &       -0.280    &        0.459     \\\\\n",
       "\\textbf{City}                             &       0.2545  &        0.131     &     1.939  &         0.053        &       -0.003    &        0.512     \\\\\n",
       "\\textbf{Locality}                         &       0.0018  &        0.001     &     1.522  &         0.128        &       -0.001    &        0.004     \\\\\n",
       "\\textbf{Property\\_Type}                   &       0.8787  &        0.311     &     2.829  &         0.005        &        0.270    &        1.487     \\\\\n",
       "\\textbf{BHK}                              &      -0.1157  &        0.121     &    -0.955  &         0.339        &       -0.353    &        0.122     \\\\\n",
       "\\textbf{Size\\_in\\_SqFt}                   &       0.0788  &        0.000     &   451.378  &         0.000        &        0.078    &        0.079     \\\\\n",
       "\\textbf{Price\\_per\\_SqFt}                 &    1700.9283  &        2.462     &   690.813  &         0.000        &     1696.102    &     1705.754     \\\\\n",
       "\\textbf{Year\\_Built}                      &      -0.5776  &        0.840     &    -0.687  &         0.492        &       -2.225    &        1.070     \\\\\n",
       "\\textbf{Furnished\\_Status}                &      -0.0206  &        0.210     &    -0.098  &         0.922        &       -0.432    &        0.391     \\\\\n",
       "\\textbf{Floor\\_No}                        &       0.0132  &        0.019     &     0.691  &         0.490        &       -0.024    &        0.051     \\\\\n",
       "\\textbf{Total\\_Floors}                    &      -0.0204  &        0.020     &    -1.033  &         0.302        &       -0.059    &        0.018     \\\\\n",
       "\\textbf{Age\\_of\\_Property}                &      -0.5933  &        0.841     &    -0.706  &         0.480        &       -2.241    &        1.054     \\\\\n",
       "\\textbf{Nearby\\_Schools}                  &       0.0521  &        0.060     &     0.875  &         0.382        &       -0.065    &        0.169     \\\\\n",
       "\\textbf{Nearby\\_Hospitals}                &      -0.0536  &        0.060     &    -0.897  &         0.370        &       -0.171    &        0.063     \\\\\n",
       "\\textbf{Public\\_Transport\\_Accessibility} &       0.2639  &        0.210     &     1.258  &         0.209        &       -0.147    &        0.675     \\\\\n",
       "\\textbf{Parking\\_Space}                   &       0.5370  &        0.343     &     1.566  &         0.117        &       -0.135    &        1.209     \\\\\n",
       "\\textbf{Security}                         &       0.5756  &        0.343     &     1.679  &         0.093        &       -0.097    &        1.248     \\\\\n",
       "\\textbf{Amenities}                        &       0.3140  &        0.032     &     9.915  &         0.000        &        0.252    &        0.376     \\\\\n",
       "\\textbf{Facing}                           &       0.2177  &        0.259     &     0.841  &         0.400        &       -0.290    &        0.725     \\\\\n",
       "\\textbf{Availability\\_Status}             &       0.4238  &        0.343     &     1.236  &         0.216        &       -0.248    &        1.096     \\\\\n",
       "\\textbf{Broker}                           &     139.7826  &      426.332     &     0.328  &         0.743        &     -695.818    &      975.383     \\\\\n",
       "\\textbf{Builder}                          &     140.2446  &      426.333     &     0.329  &         0.742        &     -695.358    &      975.848     \\\\\n",
       "\\textbf{Owner}                            &     139.7258  &      426.333     &     0.328  &         0.743        &     -695.876    &      975.328     \\\\\n",
       "\\bottomrule\n",
       "\\end{tabular}\n",
       "\\begin{tabular}{lclc}\n",
       "\\textbf{Omnibus:}       & 10206.353 & \\textbf{  Durbin-Watson:     } &     1.999  \\\\\n",
       "\\textbf{Prob(Omnibus):} &    0.000  & \\textbf{  Jarque-Bera (JB):  } & 11861.834  \\\\\n",
       "\\textbf{Skew:}          &   -0.596  & \\textbf{  Prob(JB):          } &      0.00  \\\\\n",
       "\\textbf{Kurtosis:}      &    2.953  & \\textbf{  Cond. No.          } &  3.68e+18  \\\\\n",
       "\\bottomrule\n",
       "\\end{tabular}\n",
       "%\\caption{OLS Regression Results}\n",
       "\\end{center}\n",
       "\n",
       "Notes: \\newline\n",
       " [1] Standard Errors assume that the covariance matrix of the errors is correctly specified. \\newline\n",
       " [2] The smallest eigenvalue is 1.93e-25. This might indicate that there are \\newline\n",
       " strong multicollinearity problems or that the design matrix is singular."
      ],
      "text/plain": [
       "<class 'statsmodels.iolib.summary.Summary'>\n",
       "\"\"\"\n",
       "                            OLS Regression Results                            \n",
       "==============================================================================\n",
       "Dep. Variable:         Price_in_Lakhs   R-squared:                       0.706\n",
       "Model:                            OLS   Adj. R-squared:                  0.705\n",
       "Method:                 Least Squares   F-statistic:                 2.175e+04\n",
       "Date:                Tue, 08 Apr 2025   Prob (F-statistic):               0.00\n",
       "Time:                        16:44:48   Log-Likelihood:            -1.1500e+06\n",
       "No. Observations:              199725   AIC:                         2.300e+06\n",
       "Df Residuals:                  199702   BIC:                         2.300e+06\n",
       "Df Model:                          22                                         \n",
       "Covariance Type:            nonrobust                                         \n",
       "==================================================================================================\n",
       "                                     coef    std err          t      P>|t|      [0.025      0.975]\n",
       "--------------------------------------------------------------------------------------------------\n",
       "const                            419.7529   1278.998      0.328      0.743   -2087.052    2926.558\n",
       "State                              0.0895      0.189      0.475      0.635      -0.280       0.459\n",
       "City                               0.2545      0.131      1.939      0.053      -0.003       0.512\n",
       "Locality                           0.0018      0.001      1.522      0.128      -0.001       0.004\n",
       "Property_Type                      0.8787      0.311      2.829      0.005       0.270       1.487\n",
       "BHK                               -0.1157      0.121     -0.955      0.339      -0.353       0.122\n",
       "Size_in_SqFt                       0.0788      0.000    451.378      0.000       0.078       0.079\n",
       "Price_per_SqFt                  1700.9283      2.462    690.813      0.000    1696.102    1705.754\n",
       "Year_Built                        -0.5776      0.840     -0.687      0.492      -2.225       1.070\n",
       "Furnished_Status                  -0.0206      0.210     -0.098      0.922      -0.432       0.391\n",
       "Floor_No                           0.0132      0.019      0.691      0.490      -0.024       0.051\n",
       "Total_Floors                      -0.0204      0.020     -1.033      0.302      -0.059       0.018\n",
       "Age_of_Property                   -0.5933      0.841     -0.706      0.480      -2.241       1.054\n",
       "Nearby_Schools                     0.0521      0.060      0.875      0.382      -0.065       0.169\n",
       "Nearby_Hospitals                  -0.0536      0.060     -0.897      0.370      -0.171       0.063\n",
       "Public_Transport_Accessibility     0.2639      0.210      1.258      0.209      -0.147       0.675\n",
       "Parking_Space                      0.5370      0.343      1.566      0.117      -0.135       1.209\n",
       "Security                           0.5756      0.343      1.679      0.093      -0.097       1.248\n",
       "Amenities                          0.3140      0.032      9.915      0.000       0.252       0.376\n",
       "Facing                             0.2177      0.259      0.841      0.400      -0.290       0.725\n",
       "Availability_Status                0.4238      0.343      1.236      0.216      -0.248       1.096\n",
       "Broker                           139.7826    426.332      0.328      0.743    -695.818     975.383\n",
       "Builder                          140.2446    426.333      0.329      0.742    -695.358     975.848\n",
       "Owner                            139.7258    426.333      0.328      0.743    -695.876     975.328\n",
       "==============================================================================\n",
       "Omnibus:                    10206.353   Durbin-Watson:                   1.999\n",
       "Prob(Omnibus):                  0.000   Jarque-Bera (JB):            11861.834\n",
       "Skew:                          -0.596   Prob(JB):                         0.00\n",
       "Kurtosis:                       2.953   Cond. No.                     3.68e+18\n",
       "==============================================================================\n",
       "\n",
       "Notes:\n",
       "[1] Standard Errors assume that the covariance matrix of the errors is correctly specified.\n",
       "[2] The smallest eigenvalue is 1.93e-25. This might indicate that there are\n",
       "strong multicollinearity problems or that the design matrix is singular.\n",
       "\"\"\""
      ]
     },
     "execution_count": 179,
     "metadata": {},
     "output_type": "execute_result"
    }
   ],
   "source": [
    "lr_model.summary()"
   ]
  },
  {
   "cell_type": "code",
   "execution_count": 186,
   "id": "64457f5d",
   "metadata": {},
   "outputs": [],
   "source": [
    "from statsmodels.stats.outliers_influence import variance_inflation_factor\n",
    "vif = [variance_inflation_factor(xtrain_c,i) for i in range(xtrain_c.shape[1])]"
   ]
  },
  {
   "cell_type": "code",
   "execution_count": null,
   "id": "3136f585",
   "metadata": {},
   "outputs": [],
   "source": []
  }
 ],
 "metadata": {
  "kernelspec": {
   "display_name": "env",
   "language": "python",
   "name": "python3"
  },
  "language_info": {
   "codemirror_mode": {
    "name": "ipython",
    "version": 3
   },
   "file_extension": ".py",
   "mimetype": "text/x-python",
   "name": "python",
   "nbconvert_exporter": "python",
   "pygments_lexer": "ipython3",
   "version": "3.13.0"
  }
 },
 "nbformat": 4,
 "nbformat_minor": 5
}
