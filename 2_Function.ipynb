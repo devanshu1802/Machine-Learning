{
 "cells": [
  {
   "cell_type": "markdown",
   "metadata": {},
   "source": [
    "Variable Length Argument"
   ]
  },
  {
   "cell_type": "code",
   "execution_count": 1,
   "metadata": {},
   "outputs": [
    {
     "name": "stdout",
     "output_type": "stream",
     "text": [
      "(1, 2)\n"
     ]
    }
   ],
   "source": [
    "def pet(*arg):\n",
    "    print(arg)\n",
    "pet(1,2)"
   ]
  },
  {
   "cell_type": "markdown",
   "metadata": {},
   "source": [
    "Key Variable Argument\n",
    "\n"
   ]
  },
  {
   "cell_type": "code",
   "execution_count": 7,
   "metadata": {},
   "outputs": [
    {
     "name": "stdout",
     "output_type": "stream",
     "text": [
      "Name  EREN YEAGER 👀\n",
      "Type PROTAGONIST 💔\n"
     ]
    }
   ],
   "source": [
    "def dev(**arg):\n",
    "    for k,v in arg.items():\n",
    "        print(k,v)\n",
    "\n",
    "dev(Name=\" EREN YEAGER 👀\", Type= \"PROTAGONIST 💔\")        "
   ]
  },
  {
   "cell_type": "code",
   "execution_count": 8,
   "metadata": {},
   "outputs": [
    {
     "data": {
      "text/plain": [
       "8"
      ]
     },
     "execution_count": 8,
     "metadata": {},
     "output_type": "execute_result"
    }
   ],
   "source": [
    "def sum(a,b):\n",
    "    return a+b\n",
    "\n",
    "sum(5,3)"
   ]
  },
  {
   "cell_type": "code",
   "execution_count": 9,
   "metadata": {},
   "outputs": [
    {
     "data": {
      "text/plain": [
       "4"
      ]
     },
     "execution_count": 9,
     "metadata": {},
     "output_type": "execute_result"
    }
   ],
   "source": [
    "def largest(x,y):\n",
    "    if x>y:\n",
    "        return x\n",
    "    else :\n",
    "        return y\n",
    "    \n",
    "largest(4,2)    "
   ]
  },
  {
   "cell_type": "code",
   "execution_count": 16,
   "metadata": {},
   "outputs": [
    {
     "name": "stdout",
     "output_type": "stream",
     "text": [
      "Odd\n"
     ]
    }
   ],
   "source": [
    "def evenodd(a):\n",
    "    if a%2==0:\n",
    "        print(\"Even\")\n",
    "    else :\n",
    "        print(\"Odd\")\n",
    "    \n",
    "evenodd(5)"
   ]
  },
  {
   "cell_type": "code",
   "execution_count": 19,
   "metadata": {},
   "outputs": [
    {
     "name": "stdout",
     "output_type": "stream",
     "text": [
      "The factorial of 7 is 5040\n"
     ]
    }
   ],
   "source": [
    "def factorial(x):\n",
    "    result=1\n",
    "    for i in range(1,x+1):\n",
    "        result = result*i\n",
    "    print(f\"The factorial of {x} is {result}\")\n",
    "\n",
    "factorial(7)        "
   ]
  },
  {
   "cell_type": "code",
   "execution_count": 32,
   "metadata": {},
   "outputs": [
    {
     "name": "stdout",
     "output_type": "stream",
     "text": [
      "kitir\n"
     ]
    }
   ],
   "source": [
    "# Reverse A String\n",
    "word = input(\"Enter a string: \")\n",
    "\n",
    "def reverse_str(word):\n",
    "    reversed_word= word[::-1]\n",
    "    print(reversed_word)\n",
    "\n",
    "reverse_str(word)        "
   ]
  },
  {
   "cell_type": "code",
   "execution_count": 34,
   "metadata": {},
   "outputs": [
    {
     "name": "stdout",
     "output_type": "stream",
     "text": [
      "palap\n",
      "The given word is a palindrome\n"
     ]
    }
   ],
   "source": [
    "# Palindrome\n",
    "word = input(\"Enter a string: \")\n",
    "\n",
    "def palindrome(word):\n",
    "    reversed_word= word[::-1]\n",
    "    print(reversed_word)\n",
    "    if (reversed_word==word):\n",
    "        print(\"The given word is a palindrome\")\n",
    "\n",
    "    else:\n",
    "        print(\"The given word is not a palindrome\")\n",
    "\n",
    "palindrome(word)            \n",
    "        \n"
   ]
  },
  {
   "cell_type": "code",
   "execution_count": 1,
   "metadata": {},
   "outputs": [],
   "source": [
    "# Count vowels\n",
    "word = input(\"Enter a string: \")\n",
    "count=0\n",
    "def vowel(word):\n",
    "    count= word[::-1]\n",
    "\n",
    "    "
   ]
  },
  {
   "cell_type": "code",
   "execution_count": 2,
   "metadata": {},
   "outputs": [
    {
     "data": {
      "text/plain": [
       "91"
      ]
     },
     "execution_count": 2,
     "metadata": {},
     "output_type": "execute_result"
    }
   ],
   "source": [
    "q = lambda x: 30*a + 1\n",
    "a= int(input(\"enter a number :\"))\n",
    "\n",
    "q(a)\n"
   ]
  },
  {
   "cell_type": "markdown",
   "metadata": {},
   "source": [
    "Classes In Python"
   ]
  },
  {
   "cell_type": "code",
   "execution_count": 3,
   "metadata": {},
   "outputs": [
    {
     "name": "stdout",
     "output_type": "stream",
     "text": [
      "40\n"
     ]
    }
   ],
   "source": [
    "\n",
    "class student:\n",
    "    pass\n",
    "s= student()\n",
    "s.id=40\n",
    "s.name=\"Hello World\"\n",
    "print(s.id)"
   ]
  }
 ],
 "metadata": {
  "kernelspec": {
   "display_name": "env",
   "language": "python",
   "name": "python3"
  },
  "language_info": {
   "codemirror_mode": {
    "name": "ipython",
    "version": 3
   },
   "file_extension": ".py",
   "mimetype": "text/x-python",
   "name": "python",
   "nbconvert_exporter": "python",
   "pygments_lexer": "ipython3",
   "version": "3.13.0"
  }
 },
 "nbformat": 4,
 "nbformat_minor": 2
}
