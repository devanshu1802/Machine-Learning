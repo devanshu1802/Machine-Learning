{
 "cells": [
  {
   "cell_type": "code",
   "execution_count": null,
   "metadata": {},
   "outputs": [],
   "source": [
    "class Person:\n",
    "    def greet(self, name,age):\n",
    "        print(f\"{name} and his Age is {age}\")\n",
    "\n",
    "p= Person()\n",
    "p.greet(\"Devanshu\",18)\n"
   ]
  },
  {
   "cell_type": "code",
   "execution_count": null,
   "metadata": {},
   "outputs": [],
   "source": [
    "class car:\n",
    "    def __init__(self,name,hp):\n",
    "         self.name=name\n",
    "         self.hp=hp\n",
    "    def getdetails(self):\n",
    "         print(f\"{self.name}\")\n",
    "\n",
    "car1= car(\"Mustang\",1969)\n",
    "car1.getdetails()         "
   ]
  },
  {
   "cell_type": "code",
   "execution_count": null,
   "metadata": {},
   "outputs": [],
   "source": [
    "class employee:\n",
    "    def __init__(self,name,salary):\n",
    "        self.name=name\n",
    "        self.salary=salary\n",
    "\n",
    "    def getdetails(self):\n",
    "        print(f\"The employee name is {self.name} and his salary is {self.salary}\")    \n",
    "\n",
    "    def bonus(self):\n",
    "        bonus = self.salary*0.1 + self.salary\n",
    "        print(f\"The salary is {self.salary} and after the bonus it is {bonus}\") \n",
    "       \n",
    "\n",
    "for i in range(2):\n",
    "    NAAM=input(\"Enter your name\")\n",
    "    INAAM=int(input(\"Enter your salary\"))\n",
    "    dev= employee(NAAM,INAAM)\n",
    "    dev.getdetails()    \n",
    "    dev.bonus()  \n",
    "    print(\"\\n\")"
   ]
  },
  {
   "cell_type": "code",
   "execution_count": null,
   "metadata": {},
   "outputs": [],
   "source": [
    "class car:\n",
    "    def __init__(self,model,rent,day):\n",
    "        self.model=model\n",
    "        self.rent=rent\n",
    "        self.day=day\n",
    "\n",
    "    def getcar(self):\n",
    "        total_rent= self.day * self.rent\n",
    "        print(f\"The model of the car is {self.model} and the rent per day is {self.rent}\")\n",
    "        print(f\"Total rent for your rented car will be {total_rent}\")\n",
    "\n",
    "for i in range(2):\n",
    "    Name=input(\"Enter the model of the car\")\n",
    "    Rent=int(input(\"Enter the rent for one day\"))\n",
    "    Days=int(input(\"Enter the number of days you want to rent the car\"))\n",
    "\n",
    "    a= car(Name,Rent,Days)\n",
    "    a.getcar()\n",
    "      "
   ]
  },
  {
   "cell_type": "code",
   "execution_count": null,
   "metadata": {},
   "outputs": [],
   "source": [
    "class BankAccount:\n",
    "    def transactions(self,acc_no,balance):\n",
    "        print(f\"The account number is {acc_no} and the balance is {balance}\")\n",
    "\n",
    "    def depo_and_with():\n",
    "        if    "
   ]
  }
 ],
 "metadata": {
  "kernelspec": {
   "display_name": "env",
   "language": "python",
   "name": "python3"
  },
  "language_info": {
   "codemirror_mode": {
    "name": "ipython",
    "version": 3
   },
   "file_extension": ".py",
   "mimetype": "text/x-python",
   "name": "python",
   "nbconvert_exporter": "python",
   "pygments_lexer": "ipython3",
   "version": "3.13.0"
  }
 },
 "nbformat": 4,
 "nbformat_minor": 2
}
